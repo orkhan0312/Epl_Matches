{
 "nbformat": 4,
 "nbformat_minor": 0,
 "metadata": {
  "colab": {
   "provenance": []
  },
  "kernelspec": {
   "name": "python3",
   "display_name": "Python 3"
  },
  "language_info": {
   "name": "python"
  }
 },
 "cells": [
  {
   "cell_type": "code",
   "execution_count": null,
   "metadata": {
    "id": "wNzDXpmBL0wi"
   },
   "outputs": [],
   "source": [
    "import pandas as pd"
   ]
  },
  {
   "cell_type": "code",
   "source": [
    "df = pd.read_csv('eplmatches.csv')"
   ],
   "metadata": {
    "id": "uqb4HtD_P_Un"
   },
   "execution_count": null,
   "outputs": []
  },
  {
   "cell_type": "markdown",
   "source": [
    "*Season_End_Year* - Year end for season\n",
    "\n",
    "*Wk* - Week number of match\n",
    "\n",
    "*Date* - Date of the match\n",
    "\n",
    "*Home* - Home team name\n",
    "\n",
    "*HomeGoals* - Home team goals\n",
    "\n",
    "*AwayGoals* - Away team goal\n",
    "\n",
    "*Away* - Away team name\n",
    "\n",
    "*FTR* - Did Home/Away team won the match or did it end in a draw\n"
   ],
   "metadata": {
    "id": "i5PHhaZjSDeJ"
   }
  },
  {
   "cell_type": "code",
   "source": [
    "df.head()"
   ],
   "metadata": {
    "id": "IZlVEetoQA8c",
    "colab": {
     "base_uri": "https://localhost:8080/",
     "height": 206
    },
    "outputId": "a09466dc-3d24-4acf-dee5-86c975638a89"
   },
   "execution_count": null,
   "outputs": [
    {
     "output_type": "execute_result",
     "data": {
      "text/plain": [
       "   Season_End_Year  Wk        Date            Home  HomeGoals  AwayGoals  \\\n",
       "0             1993   1  1992-08-15   Coventry City          2          1   \n",
       "1             1993   1  1992-08-15    Leeds United          2          1   \n",
       "2             1993   1  1992-08-15   Sheffield Utd          2          1   \n",
       "3             1993   1  1992-08-15  Crystal Palace          3          3   \n",
       "4             1993   1  1992-08-15         Arsenal          2          4   \n",
       "\n",
       "             Away FTR  \n",
       "0   Middlesbrough   H  \n",
       "1       Wimbledon   H  \n",
       "2  Manchester Utd   H  \n",
       "3       Blackburn   D  \n",
       "4    Norwich City   A  "
      ],
      "text/html": [
       "\n",
       "  <div id=\"df-27e8e8c5-36a9-4f08-a916-115fc713c5f9\">\n",
       "    <div class=\"colab-df-container\">\n",
       "      <div>\n",
       "<style scoped>\n",
       "    .dataframe tbody tr th:only-of-type {\n",
       "        vertical-align: middle;\n",
       "    }\n",
       "\n",
       "    .dataframe tbody tr th {\n",
       "        vertical-align: top;\n",
       "    }\n",
       "\n",
       "    .dataframe thead th {\n",
       "        text-align: right;\n",
       "    }\n",
       "</style>\n",
       "<table border=\"1\" class=\"dataframe\">\n",
       "  <thead>\n",
       "    <tr style=\"text-align: right;\">\n",
       "      <th></th>\n",
       "      <th>Season_End_Year</th>\n",
       "      <th>Wk</th>\n",
       "      <th>Date</th>\n",
       "      <th>Home</th>\n",
       "      <th>HomeGoals</th>\n",
       "      <th>AwayGoals</th>\n",
       "      <th>Away</th>\n",
       "      <th>FTR</th>\n",
       "    </tr>\n",
       "  </thead>\n",
       "  <tbody>\n",
       "    <tr>\n",
       "      <th>0</th>\n",
       "      <td>1993</td>\n",
       "      <td>1</td>\n",
       "      <td>1992-08-15</td>\n",
       "      <td>Coventry City</td>\n",
       "      <td>2</td>\n",
       "      <td>1</td>\n",
       "      <td>Middlesbrough</td>\n",
       "      <td>H</td>\n",
       "    </tr>\n",
       "    <tr>\n",
       "      <th>1</th>\n",
       "      <td>1993</td>\n",
       "      <td>1</td>\n",
       "      <td>1992-08-15</td>\n",
       "      <td>Leeds United</td>\n",
       "      <td>2</td>\n",
       "      <td>1</td>\n",
       "      <td>Wimbledon</td>\n",
       "      <td>H</td>\n",
       "    </tr>\n",
       "    <tr>\n",
       "      <th>2</th>\n",
       "      <td>1993</td>\n",
       "      <td>1</td>\n",
       "      <td>1992-08-15</td>\n",
       "      <td>Sheffield Utd</td>\n",
       "      <td>2</td>\n",
       "      <td>1</td>\n",
       "      <td>Manchester Utd</td>\n",
       "      <td>H</td>\n",
       "    </tr>\n",
       "    <tr>\n",
       "      <th>3</th>\n",
       "      <td>1993</td>\n",
       "      <td>1</td>\n",
       "      <td>1992-08-15</td>\n",
       "      <td>Crystal Palace</td>\n",
       "      <td>3</td>\n",
       "      <td>3</td>\n",
       "      <td>Blackburn</td>\n",
       "      <td>D</td>\n",
       "    </tr>\n",
       "    <tr>\n",
       "      <th>4</th>\n",
       "      <td>1993</td>\n",
       "      <td>1</td>\n",
       "      <td>1992-08-15</td>\n",
       "      <td>Arsenal</td>\n",
       "      <td>2</td>\n",
       "      <td>4</td>\n",
       "      <td>Norwich City</td>\n",
       "      <td>A</td>\n",
       "    </tr>\n",
       "  </tbody>\n",
       "</table>\n",
       "</div>\n",
       "      <button class=\"colab-df-convert\" onclick=\"convertToInteractive('df-27e8e8c5-36a9-4f08-a916-115fc713c5f9')\"\n",
       "              title=\"Convert this dataframe to an interactive table.\"\n",
       "              style=\"display:none;\">\n",
       "        \n",
       "  <svg xmlns=\"http://www.w3.org/2000/svg\" height=\"24px\"viewBox=\"0 0 24 24\"\n",
       "       width=\"24px\">\n",
       "    <path d=\"M0 0h24v24H0V0z\" fill=\"none\"/>\n",
       "    <path d=\"M18.56 5.44l.94 2.06.94-2.06 2.06-.94-2.06-.94-.94-2.06-.94 2.06-2.06.94zm-11 1L8.5 8.5l.94-2.06 2.06-.94-2.06-.94L8.5 2.5l-.94 2.06-2.06.94zm10 10l.94 2.06.94-2.06 2.06-.94-2.06-.94-.94-2.06-.94 2.06-2.06.94z\"/><path d=\"M17.41 7.96l-1.37-1.37c-.4-.4-.92-.59-1.43-.59-.52 0-1.04.2-1.43.59L10.3 9.45l-7.72 7.72c-.78.78-.78 2.05 0 2.83L4 21.41c.39.39.9.59 1.41.59.51 0 1.02-.2 1.41-.59l7.78-7.78 2.81-2.81c.8-.78.8-2.07 0-2.86zM5.41 20L4 18.59l7.72-7.72 1.47 1.35L5.41 20z\"/>\n",
       "  </svg>\n",
       "      </button>\n",
       "      \n",
       "  <style>\n",
       "    .colab-df-container {\n",
       "      display:flex;\n",
       "      flex-wrap:wrap;\n",
       "      gap: 12px;\n",
       "    }\n",
       "\n",
       "    .colab-df-convert {\n",
       "      background-color: #E8F0FE;\n",
       "      border: none;\n",
       "      border-radius: 50%;\n",
       "      cursor: pointer;\n",
       "      display: none;\n",
       "      fill: #1967D2;\n",
       "      height: 32px;\n",
       "      padding: 0 0 0 0;\n",
       "      width: 32px;\n",
       "    }\n",
       "\n",
       "    .colab-df-convert:hover {\n",
       "      background-color: #E2EBFA;\n",
       "      box-shadow: 0px 1px 2px rgba(60, 64, 67, 0.3), 0px 1px 3px 1px rgba(60, 64, 67, 0.15);\n",
       "      fill: #174EA6;\n",
       "    }\n",
       "\n",
       "    [theme=dark] .colab-df-convert {\n",
       "      background-color: #3B4455;\n",
       "      fill: #D2E3FC;\n",
       "    }\n",
       "\n",
       "    [theme=dark] .colab-df-convert:hover {\n",
       "      background-color: #434B5C;\n",
       "      box-shadow: 0px 1px 3px 1px rgba(0, 0, 0, 0.15);\n",
       "      filter: drop-shadow(0px 1px 2px rgba(0, 0, 0, 0.3));\n",
       "      fill: #FFFFFF;\n",
       "    }\n",
       "  </style>\n",
       "\n",
       "      <script>\n",
       "        const buttonEl =\n",
       "          document.querySelector('#df-27e8e8c5-36a9-4f08-a916-115fc713c5f9 button.colab-df-convert');\n",
       "        buttonEl.style.display =\n",
       "          google.colab.kernel.accessAllowed ? 'block' : 'none';\n",
       "\n",
       "        async function convertToInteractive(key) {\n",
       "          const element = document.querySelector('#df-27e8e8c5-36a9-4f08-a916-115fc713c5f9');\n",
       "          const dataTable =\n",
       "            await google.colab.kernel.invokeFunction('convertToInteractive',\n",
       "                                                     [key], {});\n",
       "          if (!dataTable) return;\n",
       "\n",
       "          const docLinkHtml = 'Like what you see? Visit the ' +\n",
       "            '<a target=\"_blank\" href=https://colab.research.google.com/notebooks/data_table.ipynb>data table notebook</a>'\n",
       "            + ' to learn more about interactive tables.';\n",
       "          element.innerHTML = '';\n",
       "          dataTable['output_type'] = 'display_data';\n",
       "          await google.colab.output.renderOutput(dataTable, element);\n",
       "          const docLink = document.createElement('div');\n",
       "          docLink.innerHTML = docLinkHtml;\n",
       "          element.appendChild(docLink);\n",
       "        }\n",
       "      </script>\n",
       "    </div>\n",
       "  </div>\n",
       "  "
      ]
     },
     "metadata": {},
     "execution_count": 391
    }
   ]
  },
  {
   "cell_type": "code",
   "source": [
    "df.tail()"
   ],
   "metadata": {
    "colab": {
     "base_uri": "https://localhost:8080/",
     "height": 206
    },
    "id": "D8YSRVJ1R5_-",
    "outputId": "2708399f-2386-4d2a-d21c-b6d42e71d713"
   },
   "execution_count": null,
   "outputs": [
    {
     "output_type": "execute_result",
     "data": {
      "text/plain": [
       "       Season_End_Year  Wk        Date            Home  HomeGoals  AwayGoals  \\\n",
       "11641             2022   9  2021-10-23    Leeds United          1          1   \n",
       "11642             2022   9  2021-10-23        Brighton          1          4   \n",
       "11643             2022   9  2021-10-24        West Ham          1          0   \n",
       "11644             2022   9  2021-10-24       Brentford          1          2   \n",
       "11645             2022   9  2021-10-24  Manchester Utd          0          5   \n",
       "\n",
       "                  Away FTR  \n",
       "11641           Wolves   D  \n",
       "11642  Manchester City   A  \n",
       "11643        Tottenham   H  \n",
       "11644   Leicester City   A  \n",
       "11645        Liverpool   A  "
      ],
      "text/html": [
       "\n",
       "  <div id=\"df-01adc9c0-8d19-4ab7-a6b6-3f6fa2107302\">\n",
       "    <div class=\"colab-df-container\">\n",
       "      <div>\n",
       "<style scoped>\n",
       "    .dataframe tbody tr th:only-of-type {\n",
       "        vertical-align: middle;\n",
       "    }\n",
       "\n",
       "    .dataframe tbody tr th {\n",
       "        vertical-align: top;\n",
       "    }\n",
       "\n",
       "    .dataframe thead th {\n",
       "        text-align: right;\n",
       "    }\n",
       "</style>\n",
       "<table border=\"1\" class=\"dataframe\">\n",
       "  <thead>\n",
       "    <tr style=\"text-align: right;\">\n",
       "      <th></th>\n",
       "      <th>Season_End_Year</th>\n",
       "      <th>Wk</th>\n",
       "      <th>Date</th>\n",
       "      <th>Home</th>\n",
       "      <th>HomeGoals</th>\n",
       "      <th>AwayGoals</th>\n",
       "      <th>Away</th>\n",
       "      <th>FTR</th>\n",
       "    </tr>\n",
       "  </thead>\n",
       "  <tbody>\n",
       "    <tr>\n",
       "      <th>11641</th>\n",
       "      <td>2022</td>\n",
       "      <td>9</td>\n",
       "      <td>2021-10-23</td>\n",
       "      <td>Leeds United</td>\n",
       "      <td>1</td>\n",
       "      <td>1</td>\n",
       "      <td>Wolves</td>\n",
       "      <td>D</td>\n",
       "    </tr>\n",
       "    <tr>\n",
       "      <th>11642</th>\n",
       "      <td>2022</td>\n",
       "      <td>9</td>\n",
       "      <td>2021-10-23</td>\n",
       "      <td>Brighton</td>\n",
       "      <td>1</td>\n",
       "      <td>4</td>\n",
       "      <td>Manchester City</td>\n",
       "      <td>A</td>\n",
       "    </tr>\n",
       "    <tr>\n",
       "      <th>11643</th>\n",
       "      <td>2022</td>\n",
       "      <td>9</td>\n",
       "      <td>2021-10-24</td>\n",
       "      <td>West Ham</td>\n",
       "      <td>1</td>\n",
       "      <td>0</td>\n",
       "      <td>Tottenham</td>\n",
       "      <td>H</td>\n",
       "    </tr>\n",
       "    <tr>\n",
       "      <th>11644</th>\n",
       "      <td>2022</td>\n",
       "      <td>9</td>\n",
       "      <td>2021-10-24</td>\n",
       "      <td>Brentford</td>\n",
       "      <td>1</td>\n",
       "      <td>2</td>\n",
       "      <td>Leicester City</td>\n",
       "      <td>A</td>\n",
       "    </tr>\n",
       "    <tr>\n",
       "      <th>11645</th>\n",
       "      <td>2022</td>\n",
       "      <td>9</td>\n",
       "      <td>2021-10-24</td>\n",
       "      <td>Manchester Utd</td>\n",
       "      <td>0</td>\n",
       "      <td>5</td>\n",
       "      <td>Liverpool</td>\n",
       "      <td>A</td>\n",
       "    </tr>\n",
       "  </tbody>\n",
       "</table>\n",
       "</div>\n",
       "      <button class=\"colab-df-convert\" onclick=\"convertToInteractive('df-01adc9c0-8d19-4ab7-a6b6-3f6fa2107302')\"\n",
       "              title=\"Convert this dataframe to an interactive table.\"\n",
       "              style=\"display:none;\">\n",
       "        \n",
       "  <svg xmlns=\"http://www.w3.org/2000/svg\" height=\"24px\"viewBox=\"0 0 24 24\"\n",
       "       width=\"24px\">\n",
       "    <path d=\"M0 0h24v24H0V0z\" fill=\"none\"/>\n",
       "    <path d=\"M18.56 5.44l.94 2.06.94-2.06 2.06-.94-2.06-.94-.94-2.06-.94 2.06-2.06.94zm-11 1L8.5 8.5l.94-2.06 2.06-.94-2.06-.94L8.5 2.5l-.94 2.06-2.06.94zm10 10l.94 2.06.94-2.06 2.06-.94-2.06-.94-.94-2.06-.94 2.06-2.06.94z\"/><path d=\"M17.41 7.96l-1.37-1.37c-.4-.4-.92-.59-1.43-.59-.52 0-1.04.2-1.43.59L10.3 9.45l-7.72 7.72c-.78.78-.78 2.05 0 2.83L4 21.41c.39.39.9.59 1.41.59.51 0 1.02-.2 1.41-.59l7.78-7.78 2.81-2.81c.8-.78.8-2.07 0-2.86zM5.41 20L4 18.59l7.72-7.72 1.47 1.35L5.41 20z\"/>\n",
       "  </svg>\n",
       "      </button>\n",
       "      \n",
       "  <style>\n",
       "    .colab-df-container {\n",
       "      display:flex;\n",
       "      flex-wrap:wrap;\n",
       "      gap: 12px;\n",
       "    }\n",
       "\n",
       "    .colab-df-convert {\n",
       "      background-color: #E8F0FE;\n",
       "      border: none;\n",
       "      border-radius: 50%;\n",
       "      cursor: pointer;\n",
       "      display: none;\n",
       "      fill: #1967D2;\n",
       "      height: 32px;\n",
       "      padding: 0 0 0 0;\n",
       "      width: 32px;\n",
       "    }\n",
       "\n",
       "    .colab-df-convert:hover {\n",
       "      background-color: #E2EBFA;\n",
       "      box-shadow: 0px 1px 2px rgba(60, 64, 67, 0.3), 0px 1px 3px 1px rgba(60, 64, 67, 0.15);\n",
       "      fill: #174EA6;\n",
       "    }\n",
       "\n",
       "    [theme=dark] .colab-df-convert {\n",
       "      background-color: #3B4455;\n",
       "      fill: #D2E3FC;\n",
       "    }\n",
       "\n",
       "    [theme=dark] .colab-df-convert:hover {\n",
       "      background-color: #434B5C;\n",
       "      box-shadow: 0px 1px 3px 1px rgba(0, 0, 0, 0.15);\n",
       "      filter: drop-shadow(0px 1px 2px rgba(0, 0, 0, 0.3));\n",
       "      fill: #FFFFFF;\n",
       "    }\n",
       "  </style>\n",
       "\n",
       "      <script>\n",
       "        const buttonEl =\n",
       "          document.querySelector('#df-01adc9c0-8d19-4ab7-a6b6-3f6fa2107302 button.colab-df-convert');\n",
       "        buttonEl.style.display =\n",
       "          google.colab.kernel.accessAllowed ? 'block' : 'none';\n",
       "\n",
       "        async function convertToInteractive(key) {\n",
       "          const element = document.querySelector('#df-01adc9c0-8d19-4ab7-a6b6-3f6fa2107302');\n",
       "          const dataTable =\n",
       "            await google.colab.kernel.invokeFunction('convertToInteractive',\n",
       "                                                     [key], {});\n",
       "          if (!dataTable) return;\n",
       "\n",
       "          const docLinkHtml = 'Like what you see? Visit the ' +\n",
       "            '<a target=\"_blank\" href=https://colab.research.google.com/notebooks/data_table.ipynb>data table notebook</a>'\n",
       "            + ' to learn more about interactive tables.';\n",
       "          element.innerHTML = '';\n",
       "          dataTable['output_type'] = 'display_data';\n",
       "          await google.colab.output.renderOutput(dataTable, element);\n",
       "          const docLink = document.createElement('div');\n",
       "          docLink.innerHTML = docLinkHtml;\n",
       "          element.appendChild(docLink);\n",
       "        }\n",
       "      </script>\n",
       "    </div>\n",
       "  </div>\n",
       "  "
      ]
     },
     "metadata": {},
     "execution_count": 392
    }
   ]
  },
  {
   "cell_type": "code",
   "source": [
    "df.info()"
   ],
   "metadata": {
    "colab": {
     "base_uri": "https://localhost:8080/"
    },
    "id": "7vEzQWizSQZL",
    "outputId": "31d8fad7-1ff4-4934-8a1e-097ba13efe7f"
   },
   "execution_count": null,
   "outputs": [
    {
     "output_type": "stream",
     "name": "stdout",
     "text": [
      "<class 'pandas.core.frame.DataFrame'>\n",
      "RangeIndex: 11646 entries, 0 to 11645\n",
      "Data columns (total 8 columns):\n",
      " #   Column           Non-Null Count  Dtype \n",
      "---  ------           --------------  ----- \n",
      " 0   Season_End_Year  11646 non-null  int64 \n",
      " 1   Wk               11646 non-null  int64 \n",
      " 2   Date             11646 non-null  object\n",
      " 3   Home             11646 non-null  object\n",
      " 4   HomeGoals        11646 non-null  int64 \n",
      " 5   AwayGoals        11646 non-null  int64 \n",
      " 6   Away             11646 non-null  object\n",
      " 7   FTR              11646 non-null  object\n",
      "dtypes: int64(4), object(4)\n",
      "memory usage: 728.0+ KB\n"
     ]
    }
   ]
  },
  {
   "cell_type": "code",
   "source": [
    "team_names = df.groupby(['Home']).groups.keys()\n",
    "team_names"
   ],
   "metadata": {
    "colab": {
     "base_uri": "https://localhost:8080/"
    },
    "id": "0z-AX6ECYBE8",
    "outputId": "1dfcf591-9612-489f-ded2-1fc05f33f747"
   },
   "execution_count": null,
   "outputs": [
    {
     "output_type": "execute_result",
     "data": {
      "text/plain": [
       "dict_keys(['Arsenal', 'Aston Villa', 'Barnsley', 'Birmingham City', 'Blackburn', 'Blackpool', 'Bolton', 'Bournemouth', 'Bradford City', 'Brentford', 'Brighton', 'Burnley', 'Cardiff City', 'Charlton Ath', 'Chelsea', 'Coventry City', 'Crystal Palace', 'Derby County', 'Everton', 'Fulham', 'Huddersfield', 'Hull City', 'Ipswich Town', 'Leeds United', 'Leicester City', 'Liverpool', 'Manchester City', 'Manchester Utd', 'Middlesbrough', 'Newcastle Utd', 'Norwich City', \"Nott'ham Forest\", 'Oldham Athletic', 'Portsmouth', 'QPR', 'Reading', 'Sheffield Utd', 'Sheffield Weds', 'Southampton', 'Stoke City', 'Sunderland', 'Swansea City', 'Swindon Town', 'Tottenham', 'Watford', 'West Brom', 'West Ham', 'Wigan Athletic', 'Wimbledon', 'Wolves'])"
      ]
     },
     "metadata": {},
     "execution_count": 394
    }
   ]
  },
  {
   "cell_type": "code",
   "source": [
    "df['Home'].value_counts() #the number of games at home"
   ],
   "metadata": {
    "colab": {
     "base_uri": "https://localhost:8080/"
    },
    "id": "4jgfa2tLYzIi",
    "outputId": "bc01d6e9-88c4-4e86-a4c2-fbee8f0ad107"
   },
   "execution_count": null,
   "outputs": [
    {
     "output_type": "execute_result",
     "data": {
      "text/plain": [
       "Tottenham          576\n",
       "Arsenal            576\n",
       "Liverpool          576\n",
       "Everton            576\n",
       "Chelsea            576\n",
       "Manchester Utd     576\n",
       "Aston Villa        519\n",
       "Newcastle Utd      517\n",
       "West Ham           498\n",
       "Manchester City    481\n",
       "Southampton        443\n",
       "Blackburn          348\n",
       "Leicester City     306\n",
       "Sunderland         304\n",
       "Middlesbrough      287\n",
       "Fulham             285\n",
       "Leeds United       272\n",
       "Crystal Palace     251\n",
       "West Brom          247\n",
       "Bolton             247\n",
       "Norwich City       196\n",
       "Stoke City         190\n",
       "Coventry City      177\n",
       "Wimbledon          158\n",
       "Sheffield Weds     158\n",
       "Wigan Athletic     152\n",
       "Charlton Ath       152\n",
       "Watford            152\n",
       "Burnley            152\n",
       "Wolves             152\n",
       "QPR                139\n",
       "Portsmouth         133\n",
       "Swansea City       133\n",
       "Derby County       133\n",
       "Birmingham City    133\n",
       "Ipswich Town       101\n",
       "Sheffield Utd       99\n",
       "Nott'ham Forest     99\n",
       "Brighton            95\n",
       "Hull City           95\n",
       "Bournemouth         95\n",
       "Reading             57\n",
       "Oldham Athletic     42\n",
       "Cardiff City        38\n",
       "Bradford City       38\n",
       "Huddersfield        38\n",
       "Swindon Town        21\n",
       "Blackpool           19\n",
       "Barnsley            19\n",
       "Brentford           19\n",
       "Name: Home, dtype: int64"
      ]
     },
     "metadata": {},
     "execution_count": 395
    }
   ]
  },
  {
   "cell_type": "code",
   "source": [
    "m_unt = df['Home']=='Manchester Utd'\n",
    "df[m_unt]['HomeGoals'].sum()"
   ],
   "metadata": {
    "colab": {
     "base_uri": "https://localhost:8080/"
    },
    "id": "mYxCakHZYvF5",
    "outputId": "39481bc4-1632-4e10-997b-9569be41cf92"
   },
   "execution_count": null,
   "outputs": [
    {
     "output_type": "execute_result",
     "data": {
      "text/plain": [
       "1214"
      ]
     },
     "metadata": {},
     "execution_count": 396
    }
   ]
  },
  {
   "cell_type": "code",
   "source": [
    "m_unt = df['Away']=='Manchester Utd'\n",
    "df[m_unt]['AwayGoals'].sum()"
   ],
   "metadata": {
    "colab": {
     "base_uri": "https://localhost:8080/"
    },
    "id": "aJ-4n4hqahJV",
    "outputId": "54a63126-52d4-45ad-e5bd-810537008949"
   },
   "execution_count": null,
   "outputs": [
    {
     "output_type": "execute_result",
     "data": {
      "text/plain": [
       "971"
      ]
     },
     "metadata": {},
     "execution_count": 397
    }
   ]
  },
  {
   "cell_type": "code",
   "source": [
    "import operator\n",
    "\n",
    "home_goal = {}\n",
    "for i in team_names:\n",
    "  t = df['Home']==i\n",
    "  h_goals = df[t]['HomeGoals'].sum()\n",
    "  home_goal.update({i : h_goals})\n",
    "home_goal = sorted(home_goal.items(), \n",
    "                   key=operator.itemgetter(1), \n",
    "                   reverse = True)\n",
    "home_goal[:3]"
   ],
   "metadata": {
    "colab": {
     "base_uri": "https://localhost:8080/"
    },
    "id": "z4jqANI8au1E",
    "outputId": "d3a2b092-62a9-46f2-cfc3-c5699138fdff"
   },
   "execution_count": null,
   "outputs": [
    {
     "output_type": "execute_result",
     "data": {
      "text/plain": [
       "[('Manchester Utd', 1214), ('Liverpool', 1156), ('Arsenal', 1154)]"
      ]
     },
     "metadata": {},
     "execution_count": 398
    }
   ]
  },
  {
   "cell_type": "code",
   "source": [
    "away_goal = {}\n",
    "for i in team_names:\n",
    "  t = df['Away']==i\n",
    "  h_goals = df[t]['AwayGoals'].sum()\n",
    "  away_goal.update({i : h_goals})\n",
    "away_goal = sorted(away_goal.items(), \n",
    "                   key=operator.itemgetter(1), \n",
    "                   reverse = True)\n",
    "away_goal[:3]"
   ],
   "metadata": {
    "colab": {
     "base_uri": "https://localhost:8080/"
    },
    "id": "jUsGgtbbe13e",
    "outputId": "75ba4d7d-0376-4ed1-84f7-de4e7748b219"
   },
   "execution_count": null,
   "outputs": [
    {
     "output_type": "execute_result",
     "data": {
      "text/plain": [
       "[('Manchester Utd', 971), ('Liverpool', 865), ('Arsenal', 863)]"
      ]
     },
     "metadata": {},
     "execution_count": 399
    }
   ]
  },
  {
   "cell_type": "code",
   "source": [
    "df['Date'] = pd.to_datetime(df['Date'])\n",
    "\n",
    "df['Day'] = df['Date'].dt.day_name()\n",
    "df['Month'] = df['Date'].dt.month_name()\n",
    "df['Year'] = df['Date'].dt.year\n",
    "\n",
    "df.drop(columns = ['Date'], inplace = True)\n",
    "df.head()"
   ],
   "metadata": {
    "colab": {
     "base_uri": "https://localhost:8080/",
     "height": 206
    },
    "id": "HsXwBW8ogH6z",
    "outputId": "64cc893e-5367-4408-d354-554630c9614c"
   },
   "execution_count": null,
   "outputs": [
    {
     "output_type": "execute_result",
     "data": {
      "text/plain": [
       "   Season_End_Year  Wk            Home  HomeGoals  AwayGoals            Away  \\\n",
       "0             1993   1   Coventry City          2          1   Middlesbrough   \n",
       "1             1993   1    Leeds United          2          1       Wimbledon   \n",
       "2             1993   1   Sheffield Utd          2          1  Manchester Utd   \n",
       "3             1993   1  Crystal Palace          3          3       Blackburn   \n",
       "4             1993   1         Arsenal          2          4    Norwich City   \n",
       "\n",
       "  FTR       Day   Month  Year  \n",
       "0   H  Saturday  August  1992  \n",
       "1   H  Saturday  August  1992  \n",
       "2   H  Saturday  August  1992  \n",
       "3   D  Saturday  August  1992  \n",
       "4   A  Saturday  August  1992  "
      ],
      "text/html": [
       "\n",
       "  <div id=\"df-3e5eadc1-9ffb-4c43-b9f5-fc5f0dbf7977\">\n",
       "    <div class=\"colab-df-container\">\n",
       "      <div>\n",
       "<style scoped>\n",
       "    .dataframe tbody tr th:only-of-type {\n",
       "        vertical-align: middle;\n",
       "    }\n",
       "\n",
       "    .dataframe tbody tr th {\n",
       "        vertical-align: top;\n",
       "    }\n",
       "\n",
       "    .dataframe thead th {\n",
       "        text-align: right;\n",
       "    }\n",
       "</style>\n",
       "<table border=\"1\" class=\"dataframe\">\n",
       "  <thead>\n",
       "    <tr style=\"text-align: right;\">\n",
       "      <th></th>\n",
       "      <th>Season_End_Year</th>\n",
       "      <th>Wk</th>\n",
       "      <th>Home</th>\n",
       "      <th>HomeGoals</th>\n",
       "      <th>AwayGoals</th>\n",
       "      <th>Away</th>\n",
       "      <th>FTR</th>\n",
       "      <th>Day</th>\n",
       "      <th>Month</th>\n",
       "      <th>Year</th>\n",
       "    </tr>\n",
       "  </thead>\n",
       "  <tbody>\n",
       "    <tr>\n",
       "      <th>0</th>\n",
       "      <td>1993</td>\n",
       "      <td>1</td>\n",
       "      <td>Coventry City</td>\n",
       "      <td>2</td>\n",
       "      <td>1</td>\n",
       "      <td>Middlesbrough</td>\n",
       "      <td>H</td>\n",
       "      <td>Saturday</td>\n",
       "      <td>August</td>\n",
       "      <td>1992</td>\n",
       "    </tr>\n",
       "    <tr>\n",
       "      <th>1</th>\n",
       "      <td>1993</td>\n",
       "      <td>1</td>\n",
       "      <td>Leeds United</td>\n",
       "      <td>2</td>\n",
       "      <td>1</td>\n",
       "      <td>Wimbledon</td>\n",
       "      <td>H</td>\n",
       "      <td>Saturday</td>\n",
       "      <td>August</td>\n",
       "      <td>1992</td>\n",
       "    </tr>\n",
       "    <tr>\n",
       "      <th>2</th>\n",
       "      <td>1993</td>\n",
       "      <td>1</td>\n",
       "      <td>Sheffield Utd</td>\n",
       "      <td>2</td>\n",
       "      <td>1</td>\n",
       "      <td>Manchester Utd</td>\n",
       "      <td>H</td>\n",
       "      <td>Saturday</td>\n",
       "      <td>August</td>\n",
       "      <td>1992</td>\n",
       "    </tr>\n",
       "    <tr>\n",
       "      <th>3</th>\n",
       "      <td>1993</td>\n",
       "      <td>1</td>\n",
       "      <td>Crystal Palace</td>\n",
       "      <td>3</td>\n",
       "      <td>3</td>\n",
       "      <td>Blackburn</td>\n",
       "      <td>D</td>\n",
       "      <td>Saturday</td>\n",
       "      <td>August</td>\n",
       "      <td>1992</td>\n",
       "    </tr>\n",
       "    <tr>\n",
       "      <th>4</th>\n",
       "      <td>1993</td>\n",
       "      <td>1</td>\n",
       "      <td>Arsenal</td>\n",
       "      <td>2</td>\n",
       "      <td>4</td>\n",
       "      <td>Norwich City</td>\n",
       "      <td>A</td>\n",
       "      <td>Saturday</td>\n",
       "      <td>August</td>\n",
       "      <td>1992</td>\n",
       "    </tr>\n",
       "  </tbody>\n",
       "</table>\n",
       "</div>\n",
       "      <button class=\"colab-df-convert\" onclick=\"convertToInteractive('df-3e5eadc1-9ffb-4c43-b9f5-fc5f0dbf7977')\"\n",
       "              title=\"Convert this dataframe to an interactive table.\"\n",
       "              style=\"display:none;\">\n",
       "        \n",
       "  <svg xmlns=\"http://www.w3.org/2000/svg\" height=\"24px\"viewBox=\"0 0 24 24\"\n",
       "       width=\"24px\">\n",
       "    <path d=\"M0 0h24v24H0V0z\" fill=\"none\"/>\n",
       "    <path d=\"M18.56 5.44l.94 2.06.94-2.06 2.06-.94-2.06-.94-.94-2.06-.94 2.06-2.06.94zm-11 1L8.5 8.5l.94-2.06 2.06-.94-2.06-.94L8.5 2.5l-.94 2.06-2.06.94zm10 10l.94 2.06.94-2.06 2.06-.94-2.06-.94-.94-2.06-.94 2.06-2.06.94z\"/><path d=\"M17.41 7.96l-1.37-1.37c-.4-.4-.92-.59-1.43-.59-.52 0-1.04.2-1.43.59L10.3 9.45l-7.72 7.72c-.78.78-.78 2.05 0 2.83L4 21.41c.39.39.9.59 1.41.59.51 0 1.02-.2 1.41-.59l7.78-7.78 2.81-2.81c.8-.78.8-2.07 0-2.86zM5.41 20L4 18.59l7.72-7.72 1.47 1.35L5.41 20z\"/>\n",
       "  </svg>\n",
       "      </button>\n",
       "      \n",
       "  <style>\n",
       "    .colab-df-container {\n",
       "      display:flex;\n",
       "      flex-wrap:wrap;\n",
       "      gap: 12px;\n",
       "    }\n",
       "\n",
       "    .colab-df-convert {\n",
       "      background-color: #E8F0FE;\n",
       "      border: none;\n",
       "      border-radius: 50%;\n",
       "      cursor: pointer;\n",
       "      display: none;\n",
       "      fill: #1967D2;\n",
       "      height: 32px;\n",
       "      padding: 0 0 0 0;\n",
       "      width: 32px;\n",
       "    }\n",
       "\n",
       "    .colab-df-convert:hover {\n",
       "      background-color: #E2EBFA;\n",
       "      box-shadow: 0px 1px 2px rgba(60, 64, 67, 0.3), 0px 1px 3px 1px rgba(60, 64, 67, 0.15);\n",
       "      fill: #174EA6;\n",
       "    }\n",
       "\n",
       "    [theme=dark] .colab-df-convert {\n",
       "      background-color: #3B4455;\n",
       "      fill: #D2E3FC;\n",
       "    }\n",
       "\n",
       "    [theme=dark] .colab-df-convert:hover {\n",
       "      background-color: #434B5C;\n",
       "      box-shadow: 0px 1px 3px 1px rgba(0, 0, 0, 0.15);\n",
       "      filter: drop-shadow(0px 1px 2px rgba(0, 0, 0, 0.3));\n",
       "      fill: #FFFFFF;\n",
       "    }\n",
       "  </style>\n",
       "\n",
       "      <script>\n",
       "        const buttonEl =\n",
       "          document.querySelector('#df-3e5eadc1-9ffb-4c43-b9f5-fc5f0dbf7977 button.colab-df-convert');\n",
       "        buttonEl.style.display =\n",
       "          google.colab.kernel.accessAllowed ? 'block' : 'none';\n",
       "\n",
       "        async function convertToInteractive(key) {\n",
       "          const element = document.querySelector('#df-3e5eadc1-9ffb-4c43-b9f5-fc5f0dbf7977');\n",
       "          const dataTable =\n",
       "            await google.colab.kernel.invokeFunction('convertToInteractive',\n",
       "                                                     [key], {});\n",
       "          if (!dataTable) return;\n",
       "\n",
       "          const docLinkHtml = 'Like what you see? Visit the ' +\n",
       "            '<a target=\"_blank\" href=https://colab.research.google.com/notebooks/data_table.ipynb>data table notebook</a>'\n",
       "            + ' to learn more about interactive tables.';\n",
       "          element.innerHTML = '';\n",
       "          dataTable['output_type'] = 'display_data';\n",
       "          await google.colab.output.renderOutput(dataTable, element);\n",
       "          const docLink = document.createElement('div');\n",
       "          docLink.innerHTML = docLinkHtml;\n",
       "          element.appendChild(docLink);\n",
       "        }\n",
       "      </script>\n",
       "    </div>\n",
       "  </div>\n",
       "  "
      ]
     },
     "metadata": {},
     "execution_count": 400
    }
   ]
  },
  {
   "cell_type": "code",
   "source": [
    "df[\"Day\"].value_counts()"
   ],
   "metadata": {
    "colab": {
     "base_uri": "https://localhost:8080/"
    },
    "id": "G5urAJSDiAi-",
    "outputId": "24d80b65-7069-43a7-d075-4754aae24721"
   },
   "execution_count": null,
   "outputs": [
    {
     "output_type": "execute_result",
     "data": {
      "text/plain": [
       "Saturday     6693\n",
       "Sunday       2254\n",
       "Wednesday    1067\n",
       "Monday        781\n",
       "Tuesday       594\n",
       "Friday        134\n",
       "Thursday      123\n",
       "Name: Day, dtype: int64"
      ]
     },
     "metadata": {},
     "execution_count": 401
    }
   ]
  },
  {
   "cell_type": "code",
   "source": [
    "df[\"Day\"].value_counts().plot.bar()"
   ],
   "metadata": {
    "colab": {
     "base_uri": "https://localhost:8080/",
     "height": 333
    },
    "id": "e3RhXQvMhfPh",
    "outputId": "6702d8ba-5e16-4514-b1f8-0d41d09f7ce9"
   },
   "execution_count": null,
   "outputs": [
    {
     "output_type": "execute_result",
     "data": {
      "text/plain": [
       "<matplotlib.axes._subplots.AxesSubplot at 0x7fa151013390>"
      ]
     },
     "metadata": {},
     "execution_count": 402
    },
    {
     "output_type": "display_data",
     "data": {
      "text/plain": [
       "<Figure size 432x288 with 1 Axes>"
      ],
      "image/png": "[encoded data removed]"
     },
     "metadata": {
      "needs_background": "light"
     }
    }
   ]
  },
  {
   "cell_type": "code",
   "source": [
    "df[\"Month\"].value_counts()"
   ],
   "metadata": {
    "colab": {
     "base_uri": "https://localhost:8080/"
    },
    "id": "RdVviORkh0UA",
    "outputId": "f4b6fea7-070d-41a3-8f81-9f6e974e1fb8"
   },
   "execution_count": null,
   "outputs": [
    {
     "output_type": "execute_result",
     "data": {
      "text/plain": [
       "December     1688\n",
       "April        1406\n",
       "January      1148\n",
       "November     1144\n",
       "March        1119\n",
       "October      1078\n",
       "September    1074\n",
       "February     1072\n",
       "August       1021\n",
       "May           804\n",
       "July           66\n",
       "June           26\n",
       "Name: Month, dtype: int64"
      ]
     },
     "metadata": {},
     "execution_count": 403
    }
   ]
  },
  {
   "cell_type": "code",
   "source": [
    "df[\"Month\"].value_counts().plot.bar()"
   ],
   "metadata": {
    "colab": {
     "base_uri": "https://localhost:8080/",
     "height": 327
    },
    "id": "svxKUQaAi0Lh",
    "outputId": "fb17c16f-ac44-42a8-b512-d31bb26c2f72"
   },
   "execution_count": null,
   "outputs": [
    {
     "output_type": "execute_result",
     "data": {
      "text/plain": [
       "<matplotlib.axes._subplots.AxesSubplot at 0x7fa150f81810>"
      ]
     },
     "metadata": {},
     "execution_count": 404
    },
    {
     "output_type": "display_data",
     "data": {
      "text/plain": [
       "<Figure size 432x288 with 1 Axes>"
      ],
      "image/png": "[encoded data removed]"
     },
     "metadata": {
      "needs_background": "light"
     }
    }
   ]
  },
  {
   "cell_type": "code",
   "source": [
    "df[\"Year\"].value_counts()"
   ],
   "metadata": {
    "colab": {
     "base_uri": "https://localhost:8080/"
    },
    "id": "IW1PsJ2ki7Ar",
    "outputId": "98173396-25a1-42af-fa3b-b2c5523c5303"
   },
   "execution_count": null,
   "outputs": [
    {
     "output_type": "execute_result",
     "data": {
      "text/plain": [
       "1993    469\n",
       "1994    456\n",
       "1995    426\n",
       "2021    408\n",
       "2017    401\n",
       "2006    394\n",
       "2004    392\n",
       "2012    391\n",
       "2002    391\n",
       "2000    390\n",
       "1997    389\n",
       "2015    380\n",
       "2014    380\n",
       "2008    379\n",
       "2019    379\n",
       "2016    378\n",
       "2009    378\n",
       "2011    377\n",
       "1996    375\n",
       "1999    375\n",
       "2005    374\n",
       "2010    374\n",
       "2001    373\n",
       "2013    372\n",
       "1998    372\n",
       "2018    371\n",
       "2007    371\n",
       "2003    359\n",
       "2020    336\n",
       "1992    239\n",
       "2022    197\n",
       "Name: Year, dtype: int64"
      ]
     },
     "metadata": {},
     "execution_count": 405
    }
   ]
  },
  {
   "cell_type": "code",
   "source": [
    "df[\"Year\"].value_counts().plot.bar()"
   ],
   "metadata": {
    "colab": {
     "base_uri": "https://localhost:8080/",
     "height": 298
    },
    "id": "aY1-qRiXjCsn",
    "outputId": "874f7380-7e5c-4b83-eb71-07f51dadd7ad"
   },
   "execution_count": null,
   "outputs": [
    {
     "output_type": "execute_result",
     "data": {
      "text/plain": [
       "<matplotlib.axes._subplots.AxesSubplot at 0x7fa150f18650>"
      ]
     },
     "metadata": {},
     "execution_count": 406
    },
    {
     "output_type": "display_data",
     "data": {
      "text/plain": [
       "<Figure size 432x288 with 1 Axes>"
      ],
      "image/png": "[encoded data removed]"
     },
     "metadata": {
      "needs_background": "light"
     }
    }
   ]
  },
  {
   "cell_type": "code",
   "source": [
    "h_st_teams = {}\n",
    "\n",
    "win = 0\n",
    "draw = 0\n",
    "lost = 0\n",
    "for year in df[\"Year\"]:\n",
    "  y = df[\"Year\"]==year\n",
    "  for team in team_names:\n",
    "    a = df['Home']==team\n",
    "    for j in df[a][\"FTR\"]:\n",
    "      if  j== 'H':\n",
    "        win+=1\n",
    "      elif j == 'A':\n",
    "        lost+=1\n",
    "      else:\n",
    "        draw+=1\n",
    "  h_st_teams.update({i : [win, draw, lost]})\n",
    "  win = 0\n",
    "  draw = 0\n",
    "  lost = 0"
   ],
   "metadata": {
    "id": "-zTOIYeZjV0Z"
   },
   "execution_count": null,
   "outputs": []
  },
  {
   "cell_type": "code",
   "source": [
    "h_st_teams = sorted(h_st_teams.items(), \n",
    "                    key=operator.itemgetter(1), \n",
    "                    reverse = True)\n",
    "h_st_teams[:3]"
   ],
   "metadata": {
    "colab": {
     "base_uri": "https://localhost:8080/"
    },
    "id": "YdHmFmadm_js",
    "outputId": "3f32c248-392a-4cfd-d289-b4792a619e51"
   },
   "execution_count": null,
   "outputs": [
    {
     "output_type": "execute_result",
     "data": {
      "text/plain": [
       "[('Manchester Utd', [402, 110, 64]),\n",
       " ('Arsenal', [368, 131, 77]),\n",
       " ('Liverpool', [363, 137, 76])]"
      ]
     },
     "metadata": {},
     "execution_count": 408
    }
   ]
  },
  {
   "cell_type": "code",
   "source": [
    "df_1992 = df[df['Season_End_Year']==1993]"
   ],
   "metadata": {
    "id": "afopCrL5cMQw"
   },
   "execution_count": null,
   "outputs": []
  },
  {
   "cell_type": "code",
   "source": [
    "df[230:242]"
   ],
   "metadata": {
    "colab": {
     "base_uri": "https://localhost:8080/",
     "height": 426
    },
    "id": "5Mn8MjOKeI4e",
    "outputId": "99d4adfb-6cec-47af-fed0-6ee67d4a5874"
   },
   "execution_count": null,
   "outputs": [
    {
     "output_type": "execute_result",
     "data": {
      "text/plain": [
       "     Season_End_Year  Wk             Home  HomeGoals  AwayGoals  \\\n",
       "230             1993  28  Nott'ham Forest          1          3   \n",
       "231             1993  29      Southampton          2          1   \n",
       "232             1993  29     Leeds United          2          0   \n",
       "233             1993  29          Chelsea          0          1   \n",
       "234             1993  29     Ipswich Town          0          1   \n",
       "235             1993  29    Sheffield Utd          6          0   \n",
       "236             1993  29    Coventry City          1          0   \n",
       "237             1993  29          Everton          2          1   \n",
       "238             1993  29  Nott'ham Forest          0          3   \n",
       "239             1993  29  Manchester City          1          1   \n",
       "240             1993  29   Crystal Palace          0          2   \n",
       "241             1993  29          Arsenal          0          0   \n",
       "\n",
       "                Away FTR        Day     Month  Year  \n",
       "230        Blackburn   A  Wednesday     April  1993  \n",
       "231        Liverpool   H   Saturday  February  1993  \n",
       "232  Oldham Athletic   H   Saturday  February  1993  \n",
       "233      Aston Villa   A   Saturday  February  1993  \n",
       "234    Middlesbrough   A    Tuesday     March  1993  \n",
       "235        Tottenham   H    Tuesday     March  1993  \n",
       "236   Sheffield Weds   H  Wednesday     March  1993  \n",
       "237        Blackburn   H  Wednesday     March  1993  \n",
       "238     Norwich City   A  Wednesday     March  1993  \n",
       "239        Wimbledon   D  Wednesday     April  1993  \n",
       "240   Manchester Utd   A  Wednesday     April  1993  \n",
       "241              QPR   D    Tuesday       May  1993  "
      ],
      "text/html": [
       "\n",
       "  <div id=\"df-6eee50d3-5c1e-4346-a6cb-1ac100336b8f\">\n",
       "    <div class=\"colab-df-container\">\n",
       "      <div>\n",
       "<style scoped>\n",
       "    .dataframe tbody tr th:only-of-type {\n",
       "        vertical-align: middle;\n",
       "    }\n",
       "\n",
       "    .dataframe tbody tr th {\n",
       "        vertical-align: top;\n",
       "    }\n",
       "\n",
       "    .dataframe thead th {\n",
       "        text-align: right;\n",
       "    }\n",
       "</style>\n",
       "<table border=\"1\" class=\"dataframe\">\n",
       "  <thead>\n",
       "    <tr style=\"text-align: right;\">\n",
       "      <th></th>\n",
       "      <th>Season_End_Year</th>\n",
       "      <th>Wk</th>\n",
       "      <th>Home</th>\n",
       "      <th>HomeGoals</th>\n",
       "      <th>AwayGoals</th>\n",
       "      <th>Away</th>\n",
       "      <th>FTR</th>\n",
       "      <th>Day</th>\n",
       "      <th>Month</th>\n",
       "      <th>Year</th>\n",
       "    </tr>\n",
       "  </thead>\n",
       "  <tbody>\n",
       "    <tr>\n",
       "      <th>230</th>\n",
       "      <td>1993</td>\n",
       "      <td>28</td>\n",
       "      <td>Nott'ham Forest</td>\n",
       "      <td>1</td>\n",
       "      <td>3</td>\n",
       "      <td>Blackburn</td>\n",
       "      <td>A</td>\n",
       "      <td>Wednesday</td>\n",
       "      <td>April</td>\n",
       "      <td>1993</td>\n",
       "    </tr>\n",
       "    <tr>\n",
       "      <th>231</th>\n",
       "      <td>1993</td>\n",
       "      <td>29</td>\n",
       "      <td>Southampton</td>\n",
       "      <td>2</td>\n",
       "      <td>1</td>\n",
       "      <td>Liverpool</td>\n",
       "      <td>H</td>\n",
       "      <td>Saturday</td>\n",
       "      <td>February</td>\n",
       "      <td>1993</td>\n",
       "    </tr>\n",
       "    <tr>\n",
       "      <th>232</th>\n",
       "      <td>1993</td>\n",
       "      <td>29</td>\n",
       "      <td>Leeds United</td>\n",
       "      <td>2</td>\n",
       "      <td>0</td>\n",
       "      <td>Oldham Athletic</td>\n",
       "      <td>H</td>\n",
       "      <td>Saturday</td>\n",
       "      <td>February</td>\n",
       "      <td>1993</td>\n",
       "    </tr>\n",
       "    <tr>\n",
       "      <th>233</th>\n",
       "      <td>1993</td>\n",
       "      <td>29</td>\n",
       "      <td>Chelsea</td>\n",
       "      <td>0</td>\n",
       "      <td>1</td>\n",
       "      <td>Aston Villa</td>\n",
       "      <td>A</td>\n",
       "      <td>Saturday</td>\n",
       "      <td>February</td>\n",
       "      <td>1993</td>\n",
       "    </tr>\n",
       "    <tr>\n",
       "      <th>234</th>\n",
       "      <td>1993</td>\n",
       "      <td>29</td>\n",
       "      <td>Ipswich Town</td>\n",
       "      <td>0</td>\n",
       "      <td>1</td>\n",
       "      <td>Middlesbrough</td>\n",
       "      <td>A</td>\n",
       "      <td>Tuesday</td>\n",
       "      <td>March</td>\n",
       "      <td>1993</td>\n",
       "    </tr>\n",
       "    <tr>\n",
       "      <th>235</th>\n",
       "      <td>1993</td>\n",
       "      <td>29</td>\n",
       "      <td>Sheffield Utd</td>\n",
       "      <td>6</td>\n",
       "      <td>0</td>\n",
       "      <td>Tottenham</td>\n",
       "      <td>H</td>\n",
       "      <td>Tuesday</td>\n",
       "      <td>March</td>\n",
       "      <td>1993</td>\n",
       "    </tr>\n",
       "    <tr>\n",
       "      <th>236</th>\n",
       "      <td>1993</td>\n",
       "      <td>29</td>\n",
       "      <td>Coventry City</td>\n",
       "      <td>1</td>\n",
       "      <td>0</td>\n",
       "      <td>Sheffield Weds</td>\n",
       "      <td>H</td>\n",
       "      <td>Wednesday</td>\n",
       "      <td>March</td>\n",
       "      <td>1993</td>\n",
       "    </tr>\n",
       "    <tr>\n",
       "      <th>237</th>\n",
       "      <td>1993</td>\n",
       "      <td>29</td>\n",
       "      <td>Everton</td>\n",
       "      <td>2</td>\n",
       "      <td>1</td>\n",
       "      <td>Blackburn</td>\n",
       "      <td>H</td>\n",
       "      <td>Wednesday</td>\n",
       "      <td>March</td>\n",
       "      <td>1993</td>\n",
       "    </tr>\n",
       "    <tr>\n",
       "      <th>238</th>\n",
       "      <td>1993</td>\n",
       "      <td>29</td>\n",
       "      <td>Nott'ham Forest</td>\n",
       "      <td>0</td>\n",
       "      <td>3</td>\n",
       "      <td>Norwich City</td>\n",
       "      <td>A</td>\n",
       "      <td>Wednesday</td>\n",
       "      <td>March</td>\n",
       "      <td>1993</td>\n",
       "    </tr>\n",
       "    <tr>\n",
       "      <th>239</th>\n",
       "      <td>1993</td>\n",
       "      <td>29</td>\n",
       "      <td>Manchester City</td>\n",
       "      <td>1</td>\n",
       "      <td>1</td>\n",
       "      <td>Wimbledon</td>\n",
       "      <td>D</td>\n",
       "      <td>Wednesday</td>\n",
       "      <td>April</td>\n",
       "      <td>1993</td>\n",
       "    </tr>\n",
       "    <tr>\n",
       "      <th>240</th>\n",
       "      <td>1993</td>\n",
       "      <td>29</td>\n",
       "      <td>Crystal Palace</td>\n",
       "      <td>0</td>\n",
       "      <td>2</td>\n",
       "      <td>Manchester Utd</td>\n",
       "      <td>A</td>\n",
       "      <td>Wednesday</td>\n",
       "      <td>April</td>\n",
       "      <td>1993</td>\n",
       "    </tr>\n",
       "    <tr>\n",
       "      <th>241</th>\n",
       "      <td>1993</td>\n",
       "      <td>29</td>\n",
       "      <td>Arsenal</td>\n",
       "      <td>0</td>\n",
       "      <td>0</td>\n",
       "      <td>QPR</td>\n",
       "      <td>D</td>\n",
       "      <td>Tuesday</td>\n",
       "      <td>May</td>\n",
       "      <td>1993</td>\n",
       "    </tr>\n",
       "  </tbody>\n",
       "</table>\n",
       "</div>\n",
       "      <button class=\"colab-df-convert\" onclick=\"convertToInteractive('df-6eee50d3-5c1e-4346-a6cb-1ac100336b8f')\"\n",
       "              title=\"Convert this dataframe to an interactive table.\"\n",
       "              style=\"display:none;\">\n",
       "        \n",
       "  <svg xmlns=\"http://www.w3.org/2000/svg\" height=\"24px\"viewBox=\"0 0 24 24\"\n",
       "       width=\"24px\">\n",
       "    <path d=\"M0 0h24v24H0V0z\" fill=\"none\"/>\n",
       "    <path d=\"M18.56 5.44l.94 2.06.94-2.06 2.06-.94-2.06-.94-.94-2.06-.94 2.06-2.06.94zm-11 1L8.5 8.5l.94-2.06 2.06-.94-2.06-.94L8.5 2.5l-.94 2.06-2.06.94zm10 10l.94 2.06.94-2.06 2.06-.94-2.06-.94-.94-2.06-.94 2.06-2.06.94z\"/><path d=\"M17.41 7.96l-1.37-1.37c-.4-.4-.92-.59-1.43-.59-.52 0-1.04.2-1.43.59L10.3 9.45l-7.72 7.72c-.78.78-.78 2.05 0 2.83L4 21.41c.39.39.9.59 1.41.59.51 0 1.02-.2 1.41-.59l7.78-7.78 2.81-2.81c.8-.78.8-2.07 0-2.86zM5.41 20L4 18.59l7.72-7.72 1.47 1.35L5.41 20z\"/>\n",
       "  </svg>\n",
       "      </button>\n",
       "      \n",
       "  <style>\n",
       "    .colab-df-container {\n",
       "      display:flex;\n",
       "      flex-wrap:wrap;\n",
       "      gap: 12px;\n",
       "    }\n",
       "\n",
       "    .colab-df-convert {\n",
       "      background-color: #E8F0FE;\n",
       "      border: none;\n",
       "      border-radius: 50%;\n",
       "      cursor: pointer;\n",
       "      display: none;\n",
       "      fill: #1967D2;\n",
       "      height: 32px;\n",
       "      padding: 0 0 0 0;\n",
       "      width: 32px;\n",
       "    }\n",
       "\n",
       "    .colab-df-convert:hover {\n",
       "      background-color: #E2EBFA;\n",
       "      box-shadow: 0px 1px 2px rgba(60, 64, 67, 0.3), 0px 1px 3px 1px rgba(60, 64, 67, 0.15);\n",
       "      fill: #174EA6;\n",
       "    }\n",
       "\n",
       "    [theme=dark] .colab-df-convert {\n",
       "      background-color: #3B4455;\n",
       "      fill: #D2E3FC;\n",
       "    }\n",
       "\n",
       "    [theme=dark] .colab-df-convert:hover {\n",
       "      background-color: #434B5C;\n",
       "      box-shadow: 0px 1px 3px 1px rgba(0, 0, 0, 0.15);\n",
       "      filter: drop-shadow(0px 1px 2px rgba(0, 0, 0, 0.3));\n",
       "      fill: #FFFFFF;\n",
       "    }\n",
       "  </style>\n",
       "\n",
       "      <script>\n",
       "        const buttonEl =\n",
       "          document.querySelector('#df-6eee50d3-5c1e-4346-a6cb-1ac100336b8f button.colab-df-convert');\n",
       "        buttonEl.style.display =\n",
       "          google.colab.kernel.accessAllowed ? 'block' : 'none';\n",
       "\n",
       "        async function convertToInteractive(key) {\n",
       "          const element = document.querySelector('#df-6eee50d3-5c1e-4346-a6cb-1ac100336b8f');\n",
       "          const dataTable =\n",
       "            await google.colab.kernel.invokeFunction('convertToInteractive',\n",
       "                                                     [key], {});\n",
       "          if (!dataTable) return;\n",
       "\n",
       "          const docLinkHtml = 'Like what you see? Visit the ' +\n",
       "            '<a target=\"_blank\" href=https://colab.research.google.com/notebooks/data_table.ipynb>data table notebook</a>'\n",
       "            + ' to learn more about interactive tables.';\n",
       "          element.innerHTML = '';\n",
       "          dataTable['output_type'] = 'display_data';\n",
       "          await google.colab.output.renderOutput(dataTable, element);\n",
       "          const docLink = document.createElement('div');\n",
       "          docLink.innerHTML = docLinkHtml;\n",
       "          element.appendChild(docLink);\n",
       "        }\n",
       "      </script>\n",
       "    </div>\n",
       "  </div>\n",
       "  "
      ]
     },
     "metadata": {},
     "execution_count": 410
    }
   ]
  },
  {
   "cell_type": "code",
   "source": [],
   "metadata": {
    "id": "SQAMkhRDfX9-"
   },
   "execution_count": null,
   "outputs": []
  },
  {
   "cell_type": "code",
   "source": [
    "m_u_stat_h = {}\n",
    "\n",
    "win = 0\n",
    "a = df['Home']==\"Manchester Utd\"\n",
    "for i in range (1993, 2023):\n",
    "  df_year = df[df['Season_End_Year']==i]\n",
    "  for j in df_year[a][\"FTR\"]:\n",
    "    if  j== 'H': \n",
    "      win+=1\n",
    "  m_u_stat_h.update({i : win})\n",
    "  win = 0"
   ],
   "metadata": {
    "colab": {
     "base_uri": "https://localhost:8080/"
    },
    "id": "7vTzXaQddNAO",
    "outputId": "cecaa8e7-d70b-49a1-d871-d4e6edf2d662"
   },
   "execution_count": null,
   "outputs": [
    {
     "output_type": "stream",
     "name": "stderr",
     "text": [
      "/usr/local/lib/python3.7/dist-packages/ipykernel_launcher.py:7: UserWarning: Boolean Series key will be reindexed to match DataFrame index.\n",
      "  import sys\n"
     ]
    }
   ]
  },
  {
   "cell_type": "code",
   "source": [
    "m_u_stat_h"
   ],
   "metadata": {
    "colab": {
     "base_uri": "https://localhost:8080/"
    },
    "id": "3zAiEM3fdVp-",
    "outputId": "a4e014b2-0916-4749-d06a-8c89820f4893"
   },
   "execution_count": null,
   "outputs": [
    {
     "output_type": "execute_result",
     "data": {
      "text/plain": [
       "{1993: 14,\n",
       " 1994: 14,\n",
       " 1995: 16,\n",
       " 1996: 15,\n",
       " 1997: 12,\n",
       " 1998: 13,\n",
       " 1999: 14,\n",
       " 2000: 15,\n",
       " 2001: 15,\n",
       " 2002: 11,\n",
       " 2003: 16,\n",
       " 2004: 12,\n",
       " 2005: 12,\n",
       " 2006: 13,\n",
       " 2007: 15,\n",
       " 2008: 17,\n",
       " 2009: 16,\n",
       " 2010: 16,\n",
       " 2011: 18,\n",
       " 2012: 15,\n",
       " 2013: 16,\n",
       " 2014: 9,\n",
       " 2015: 14,\n",
       " 2016: 12,\n",
       " 2017: 8,\n",
       " 2018: 15,\n",
       " 2019: 10,\n",
       " 2020: 10,\n",
       " 2021: 9,\n",
       " 2022: 10}"
      ]
     },
     "metadata": {},
     "execution_count": 412
    }
   ]
  },
  {
   "cell_type": "code",
   "source": [
    "m_u_stat_a = {}\n",
    "\n",
    "win = 0\n",
    "a = df['Away']==\"Manchester Utd\"\n",
    "for i in range (1993, 2023):\n",
    "  df_year = df[df['Season_End_Year']==i]\n",
    "  for j in df_year[a][\"FTR\"]:\n",
    "    if  j== 'A': \n",
    "      win+=1\n",
    "  m_u_stat_a.update({i : win})\n",
    "  win = 0"
   ],
   "metadata": {
    "colab": {
     "base_uri": "https://localhost:8080/"
    },
    "id": "ty_7l_gogmZp",
    "outputId": "642d1f8d-e8a2-4831-a640-c878d05fb763"
   },
   "execution_count": null,
   "outputs": [
    {
     "output_type": "stream",
     "name": "stderr",
     "text": [
      "/usr/local/lib/python3.7/dist-packages/ipykernel_launcher.py:7: UserWarning: Boolean Series key will be reindexed to match DataFrame index.\n",
      "  import sys\n"
     ]
    }
   ]
  },
  {
   "cell_type": "code",
   "source": [
    "m_u_stat_a"
   ],
   "metadata": {
    "colab": {
     "base_uri": "https://localhost:8080/"
    },
    "id": "T7Jo1U_hg6l4",
    "outputId": "675d128a-4d7a-4d01-8187-6fa9eb70f725"
   },
   "execution_count": null,
   "outputs": [
    {
     "output_type": "execute_result",
     "data": {
      "text/plain": [
       "{1993: 10,\n",
       " 1994: 13,\n",
       " 1995: 10,\n",
       " 1996: 10,\n",
       " 1997: 9,\n",
       " 1998: 10,\n",
       " 1999: 8,\n",
       " 2000: 13,\n",
       " 2001: 9,\n",
       " 2002: 13,\n",
       " 2003: 9,\n",
       " 2004: 11,\n",
       " 2005: 10,\n",
       " 2006: 12,\n",
       " 2007: 13,\n",
       " 2008: 10,\n",
       " 2009: 12,\n",
       " 2010: 11,\n",
       " 2011: 5,\n",
       " 2012: 13,\n",
       " 2013: 12,\n",
       " 2014: 10,\n",
       " 2015: 6,\n",
       " 2016: 7,\n",
       " 2017: 10,\n",
       " 2018: 10,\n",
       " 2019: 9,\n",
       " 2020: 8,\n",
       " 2021: 12,\n",
       " 2022: 6}"
      ]
     },
     "metadata": {},
     "execution_count": 414
    }
   ]
  },
  {
   "cell_type": "code",
   "source": [
    "import collections\n",
    "\n",
    "my_dict = [m_u_stat_a, m_u_stat_h]\n",
    "\n",
    "counter = collections.Counter()\n",
    "for d in my_dict:\n",
    "    counter.update(d)\n",
    "\n",
    "res = dict(counter)\n",
    "\n",
    "man_unt_win = pd.DataFrame(list(res.items()), \n",
    "                       columns = ['Year','Win'])\n",
    "man_unt_win.head()"
   ],
   "metadata": {
    "colab": {
     "base_uri": "https://localhost:8080/",
     "height": 206
    },
    "id": "ZFrL44yPhxw-",
    "outputId": "5e0d82c2-faa3-4e99-8abb-70b9eeddb5c5"
   },
   "execution_count": null,
   "outputs": [
    {
     "output_type": "execute_result",
     "data": {
      "text/plain": [
       "   Year  Win\n",
       "0  1993   24\n",
       "1  1994   27\n",
       "2  1995   26\n",
       "3  1996   25\n",
       "4  1997   21"
      ],
      "text/html": [
       "\n",
       "  <div id=\"df-41aa478c-b2d2-4da4-a9e5-39ad890dad4d\">\n",
       "    <div class=\"colab-df-container\">\n",
       "      <div>\n",
       "<style scoped>\n",
       "    .dataframe tbody tr th:only-of-type {\n",
       "        vertical-align: middle;\n",
       "    }\n",
       "\n",
       "    .dataframe tbody tr th {\n",
       "        vertical-align: top;\n",
       "    }\n",
       "\n",
       "    .dataframe thead th {\n",
       "        text-align: right;\n",
       "    }\n",
       "</style>\n",
       "<table border=\"1\" class=\"dataframe\">\n",
       "  <thead>\n",
       "    <tr style=\"text-align: right;\">\n",
       "      <th></th>\n",
       "      <th>Year</th>\n",
       "      <th>Win</th>\n",
       "    </tr>\n",
       "  </thead>\n",
       "  <tbody>\n",
       "    <tr>\n",
       "      <th>0</th>\n",
       "      <td>1993</td>\n",
       "      <td>24</td>\n",
       "    </tr>\n",
       "    <tr>\n",
       "      <th>1</th>\n",
       "      <td>1994</td>\n",
       "      <td>27</td>\n",
       "    </tr>\n",
       "    <tr>\n",
       "      <th>2</th>\n",
       "      <td>1995</td>\n",
       "      <td>26</td>\n",
       "    </tr>\n",
       "    <tr>\n",
       "      <th>3</th>\n",
       "      <td>1996</td>\n",
       "      <td>25</td>\n",
       "    </tr>\n",
       "    <tr>\n",
       "      <th>4</th>\n",
       "      <td>1997</td>\n",
       "      <td>21</td>\n",
       "    </tr>\n",
       "  </tbody>\n",
       "</table>\n",
       "</div>\n",
       "      <button class=\"colab-df-convert\" onclick=\"convertToInteractive('df-41aa478c-b2d2-4da4-a9e5-39ad890dad4d')\"\n",
       "              title=\"Convert this dataframe to an interactive table.\"\n",
       "              style=\"display:none;\">\n",
       "        \n",
       "  <svg xmlns=\"http://www.w3.org/2000/svg\" height=\"24px\"viewBox=\"0 0 24 24\"\n",
       "       width=\"24px\">\n",
       "    <path d=\"M0 0h24v24H0V0z\" fill=\"none\"/>\n",
       "    <path d=\"M18.56 5.44l.94 2.06.94-2.06 2.06-.94-2.06-.94-.94-2.06-.94 2.06-2.06.94zm-11 1L8.5 8.5l.94-2.06 2.06-.94-2.06-.94L8.5 2.5l-.94 2.06-2.06.94zm10 10l.94 2.06.94-2.06 2.06-.94-2.06-.94-.94-2.06-.94 2.06-2.06.94z\"/><path d=\"M17.41 7.96l-1.37-1.37c-.4-.4-.92-.59-1.43-.59-.52 0-1.04.2-1.43.59L10.3 9.45l-7.72 7.72c-.78.78-.78 2.05 0 2.83L4 21.41c.39.39.9.59 1.41.59.51 0 1.02-.2 1.41-.59l7.78-7.78 2.81-2.81c.8-.78.8-2.07 0-2.86zM5.41 20L4 18.59l7.72-7.72 1.47 1.35L5.41 20z\"/>\n",
       "  </svg>\n",
       "      </button>\n",
       "      \n",
       "  <style>\n",
       "    .colab-df-container {\n",
       "      display:flex;\n",
       "      flex-wrap:wrap;\n",
       "      gap: 12px;\n",
       "    }\n",
       "\n",
       "    .colab-df-convert {\n",
       "      background-color: #E8F0FE;\n",
       "      border: none;\n",
       "      border-radius: 50%;\n",
       "      cursor: pointer;\n",
       "      display: none;\n",
       "      fill: #1967D2;\n",
       "      height: 32px;\n",
       "      padding: 0 0 0 0;\n",
       "      width: 32px;\n",
       "    }\n",
       "\n",
       "    .colab-df-convert:hover {\n",
       "      background-color: #E2EBFA;\n",
       "      box-shadow: 0px 1px 2px rgba(60, 64, 67, 0.3), 0px 1px 3px 1px rgba(60, 64, 67, 0.15);\n",
       "      fill: #174EA6;\n",
       "    }\n",
       "\n",
       "    [theme=dark] .colab-df-convert {\n",
       "      background-color: #3B4455;\n",
       "      fill: #D2E3FC;\n",
       "    }\n",
       "\n",
       "    [theme=dark] .colab-df-convert:hover {\n",
       "      background-color: #434B5C;\n",
       "      box-shadow: 0px 1px 3px 1px rgba(0, 0, 0, 0.15);\n",
       "      filter: drop-shadow(0px 1px 2px rgba(0, 0, 0, 0.3));\n",
       "      fill: #FFFFFF;\n",
       "    }\n",
       "  </style>\n",
       "\n",
       "      <script>\n",
       "        const buttonEl =\n",
       "          document.querySelector('#df-41aa478c-b2d2-4da4-a9e5-39ad890dad4d button.colab-df-convert');\n",
       "        buttonEl.style.display =\n",
       "          google.colab.kernel.accessAllowed ? 'block' : 'none';\n",
       "\n",
       "        async function convertToInteractive(key) {\n",
       "          const element = document.querySelector('#df-41aa478c-b2d2-4da4-a9e5-39ad890dad4d');\n",
       "          const dataTable =\n",
       "            await google.colab.kernel.invokeFunction('convertToInteractive',\n",
       "                                                     [key], {});\n",
       "          if (!dataTable) return;\n",
       "\n",
       "          const docLinkHtml = 'Like what you see? Visit the ' +\n",
       "            '<a target=\"_blank\" href=https://colab.research.google.com/notebooks/data_table.ipynb>data table notebook</a>'\n",
       "            + ' to learn more about interactive tables.';\n",
       "          element.innerHTML = '';\n",
       "          dataTable['output_type'] = 'display_data';\n",
       "          await google.colab.output.renderOutput(dataTable, element);\n",
       "          const docLink = document.createElement('div');\n",
       "          docLink.innerHTML = docLinkHtml;\n",
       "          element.appendChild(docLink);\n",
       "        }\n",
       "      </script>\n",
       "    </div>\n",
       "  </div>\n",
       "  "
      ]
     },
     "metadata": {},
     "execution_count": 415
    }
   ]
  },
  {
   "cell_type": "code",
   "source": [
    "man_unt_win.plot.bar(x = 'Year', y = \"Win\")"
   ],
   "metadata": {
    "colab": {
     "base_uri": "https://localhost:8080/",
     "height": 312
    },
    "id": "j5jwhDmhkPh-",
    "outputId": "ebbf1383-af78-4716-b66f-9f1fdb87e9e2"
   },
   "execution_count": null,
   "outputs": [
    {
     "output_type": "execute_result",
     "data": {
      "text/plain": [
       "<matplotlib.axes._subplots.AxesSubplot at 0x7fa150ef7a10>"
      ]
     },
     "metadata": {},
     "execution_count": 416
    },
    {
     "output_type": "display_data",
     "data": {
      "text/plain": [
       "<Figure size 432x288 with 1 Axes>"
      ],
      "image/png": "[encoded data removed]"
     },
     "metadata": {
      "needs_background": "light"
     }
    }
   ]
  },
  {
   "cell_type": "code",
   "source": [
    "man_unt_win.loc[man_unt_win['Win'].idxmax()]"
   ],
   "metadata": {
    "colab": {
     "base_uri": "https://localhost:8080/"
    },
    "id": "IUqVnlTXnMnz",
    "outputId": "fc228ec1-f1e9-48d7-fe55-6211e18bfdc9"
   },
   "execution_count": null,
   "outputs": [
    {
     "output_type": "execute_result",
     "data": {
      "text/plain": [
       "Year    2000\n",
       "Win       28\n",
       "Name: 7, dtype: int64"
      ]
     },
     "metadata": {},
     "execution_count": 417
    }
   ]
  },
  {
   "cell_type": "code",
   "source": [
    "m_u_stat_h = {}\n",
    "\n",
    "draw = 0\n",
    "a = df['Home']==\"Manchester Utd\"\n",
    "for i in range (1993, 2023):\n",
    "  df_year = df[df['Season_End_Year']==i]\n",
    "  for j in df_year[a][\"FTR\"]:\n",
    "    if  j== 'D': \n",
    "      draw+=1\n",
    "  m_u_stat_a.update({i : draw})\n",
    "  draw = 0"
   ],
   "metadata": {
    "colab": {
     "base_uri": "https://localhost:8080/"
    },
    "id": "JGInQXkbqBCd",
    "outputId": "5058417b-eed6-4f22-8269-bb37129df0dd"
   },
   "execution_count": null,
   "outputs": [
    {
     "output_type": "stream",
     "name": "stderr",
     "text": [
      "/usr/local/lib/python3.7/dist-packages/ipykernel_launcher.py:7: UserWarning: Boolean Series key will be reindexed to match DataFrame index.\n",
      "  import sys\n"
     ]
    }
   ]
  },
  {
   "cell_type": "code",
   "source": [
    "m_u_stat_a = {}\n",
    "\n",
    "draw = 0\n",
    "a = df['Away']==\"Manchester Utd\"\n",
    "for i in range (1993, 2023):\n",
    "  df_year = df[df['Season_End_Year']==i]\n",
    "  for j in df_year[a][\"FTR\"]:\n",
    "    if  j== 'D': \n",
    "      draw+=1\n",
    "  m_u_stat_a.update({i : draw})\n",
    "  draw = 0"
   ],
   "metadata": {
    "colab": {
     "base_uri": "https://localhost:8080/"
    },
    "id": "rGLUkAFEpqE4",
    "outputId": "fb1e1445-dd0f-4734-b144-da8dd0957b39"
   },
   "execution_count": null,
   "outputs": [
    {
     "output_type": "stream",
     "name": "stderr",
     "text": [
      "/usr/local/lib/python3.7/dist-packages/ipykernel_launcher.py:7: UserWarning: Boolean Series key will be reindexed to match DataFrame index.\n",
      "  import sys\n"
     ]
    }
   ]
  },
  {
   "cell_type": "code",
   "source": [
    "import collections\n",
    "\n",
    "my_dict = [m_u_stat_a, m_u_stat_h]\n",
    "\n",
    "counter = collections.Counter()\n",
    "for d in my_dict:\n",
    "    counter.update(d)\n",
    "\n",
    "res = dict(counter)\n",
    "\n",
    "man_unt_draw = pd.DataFrame(list(res.items()), \n",
    "                       columns = ['Year','Draw'])\n",
    "man_unt_draw.head()"
   ],
   "metadata": {
    "colab": {
     "base_uri": "https://localhost:8080/",
     "height": 206
    },
    "id": "JQtQpU8apzcS",
    "outputId": "826dd70e-9a0a-40b8-f0ca-9bdab1a04f15"
   },
   "execution_count": null,
   "outputs": [
    {
     "output_type": "execute_result",
     "data": {
      "text/plain": [
       "   Year  Draw\n",
       "0  1993     7\n",
       "1  1994     5\n",
       "2  1995     6\n",
       "3  1996     3\n",
       "4  1997     7"
      ],
      "text/html": [
       "\n",
       "  <div id=\"df-c5737902-5331-48a0-a3dc-ab1550b445f6\">\n",
       "    <div class=\"colab-df-container\">\n",
       "      <div>\n",
       "<style scoped>\n",
       "    .dataframe tbody tr th:only-of-type {\n",
       "        vertical-align: middle;\n",
       "    }\n",
       "\n",
       "    .dataframe tbody tr th {\n",
       "        vertical-align: top;\n",
       "    }\n",
       "\n",
       "    .dataframe thead th {\n",
       "        text-align: right;\n",
       "    }\n",
       "</style>\n",
       "<table border=\"1\" class=\"dataframe\">\n",
       "  <thead>\n",
       "    <tr style=\"text-align: right;\">\n",
       "      <th></th>\n",
       "      <th>Year</th>\n",
       "      <th>Draw</th>\n",
       "    </tr>\n",
       "  </thead>\n",
       "  <tbody>\n",
       "    <tr>\n",
       "      <th>0</th>\n",
       "      <td>1993</td>\n",
       "      <td>7</td>\n",
       "    </tr>\n",
       "    <tr>\n",
       "      <th>1</th>\n",
       "      <td>1994</td>\n",
       "      <td>5</td>\n",
       "    </tr>\n",
       "    <tr>\n",
       "      <th>2</th>\n",
       "      <td>1995</td>\n",
       "      <td>6</td>\n",
       "    </tr>\n",
       "    <tr>\n",
       "      <th>3</th>\n",
       "      <td>1996</td>\n",
       "      <td>3</td>\n",
       "    </tr>\n",
       "    <tr>\n",
       "      <th>4</th>\n",
       "      <td>1997</td>\n",
       "      <td>7</td>\n",
       "    </tr>\n",
       "  </tbody>\n",
       "</table>\n",
       "</div>\n",
       "      <button class=\"colab-df-convert\" onclick=\"convertToInteractive('df-c5737902-5331-48a0-a3dc-ab1550b445f6')\"\n",
       "              title=\"Convert this dataframe to an interactive table.\"\n",
       "              style=\"display:none;\">\n",
       "        \n",
       "  <svg xmlns=\"http://www.w3.org/2000/svg\" height=\"24px\"viewBox=\"0 0 24 24\"\n",
       "       width=\"24px\">\n",
       "    <path d=\"M0 0h24v24H0V0z\" fill=\"none\"/>\n",
       "    <path d=\"M18.56 5.44l.94 2.06.94-2.06 2.06-.94-2.06-.94-.94-2.06-.94 2.06-2.06.94zm-11 1L8.5 8.5l.94-2.06 2.06-.94-2.06-.94L8.5 2.5l-.94 2.06-2.06.94zm10 10l.94 2.06.94-2.06 2.06-.94-2.06-.94-.94-2.06-.94 2.06-2.06.94z\"/><path d=\"M17.41 7.96l-1.37-1.37c-.4-.4-.92-.59-1.43-.59-.52 0-1.04.2-1.43.59L10.3 9.45l-7.72 7.72c-.78.78-.78 2.05 0 2.83L4 21.41c.39.39.9.59 1.41.59.51 0 1.02-.2 1.41-.59l7.78-7.78 2.81-2.81c.8-.78.8-2.07 0-2.86zM5.41 20L4 18.59l7.72-7.72 1.47 1.35L5.41 20z\"/>\n",
       "  </svg>\n",
       "      </button>\n",
       "      \n",
       "  <style>\n",
       "    .colab-df-container {\n",
       "      display:flex;\n",
       "      flex-wrap:wrap;\n",
       "      gap: 12px;\n",
       "    }\n",
       "\n",
       "    .colab-df-convert {\n",
       "      background-color: #E8F0FE;\n",
       "      border: none;\n",
       "      border-radius: 50%;\n",
       "      cursor: pointer;\n",
       "      display: none;\n",
       "      fill: #1967D2;\n",
       "      height: 32px;\n",
       "      padding: 0 0 0 0;\n",
       "      width: 32px;\n",
       "    }\n",
       "\n",
       "    .colab-df-convert:hover {\n",
       "      background-color: #E2EBFA;\n",
       "      box-shadow: 0px 1px 2px rgba(60, 64, 67, 0.3), 0px 1px 3px 1px rgba(60, 64, 67, 0.15);\n",
       "      fill: #174EA6;\n",
       "    }\n",
       "\n",
       "    [theme=dark] .colab-df-convert {\n",
       "      background-color: #3B4455;\n",
       "      fill: #D2E3FC;\n",
       "    }\n",
       "\n",
       "    [theme=dark] .colab-df-convert:hover {\n",
       "      background-color: #434B5C;\n",
       "      box-shadow: 0px 1px 3px 1px rgba(0, 0, 0, 0.15);\n",
       "      filter: drop-shadow(0px 1px 2px rgba(0, 0, 0, 0.3));\n",
       "      fill: #FFFFFF;\n",
       "    }\n",
       "  </style>\n",
       "\n",
       "      <script>\n",
       "        const buttonEl =\n",
       "          document.querySelector('#df-c5737902-5331-48a0-a3dc-ab1550b445f6 button.colab-df-convert');\n",
       "        buttonEl.style.display =\n",
       "          google.colab.kernel.accessAllowed ? 'block' : 'none';\n",
       "\n",
       "        async function convertToInteractive(key) {\n",
       "          const element = document.querySelector('#df-c5737902-5331-48a0-a3dc-ab1550b445f6');\n",
       "          const dataTable =\n",
       "            await google.colab.kernel.invokeFunction('convertToInteractive',\n",
       "                                                     [key], {});\n",
       "          if (!dataTable) return;\n",
       "\n",
       "          const docLinkHtml = 'Like what you see? Visit the ' +\n",
       "            '<a target=\"_blank\" href=https://colab.research.google.com/notebooks/data_table.ipynb>data table notebook</a>'\n",
       "            + ' to learn more about interactive tables.';\n",
       "          element.innerHTML = '';\n",
       "          dataTable['output_type'] = 'display_data';\n",
       "          await google.colab.output.renderOutput(dataTable, element);\n",
       "          const docLink = document.createElement('div');\n",
       "          docLink.innerHTML = docLinkHtml;\n",
       "          element.appendChild(docLink);\n",
       "        }\n",
       "      </script>\n",
       "    </div>\n",
       "  </div>\n",
       "  "
      ]
     },
     "metadata": {},
     "execution_count": 420
    }
   ]
  },
  {
   "cell_type": "code",
   "source": [
    "m_u_stat_h = {}\n",
    "\n",
    "lost = 0\n",
    "a = df['Home']==\"Manchester Utd\"\n",
    "for i in range (1993, 2023):\n",
    "  df_year = df[df['Season_End_Year']==i]\n",
    "  for j in df_year[a][\"FTR\"]:\n",
    "    if  j== 'A': \n",
    "      lost+=1\n",
    "  m_u_stat_a.update({i : lost})\n",
    "  lost = 0"
   ],
   "metadata": {
    "colab": {
     "base_uri": "https://localhost:8080/"
    },
    "id": "SKxhmp5KrAaz",
    "outputId": "e8319ea3-6e73-420b-8d45-173d5231c159"
   },
   "execution_count": null,
   "outputs": [
    {
     "output_type": "stream",
     "name": "stderr",
     "text": [
      "/usr/local/lib/python3.7/dist-packages/ipykernel_launcher.py:7: UserWarning: Boolean Series key will be reindexed to match DataFrame index.\n",
      "  import sys\n"
     ]
    }
   ]
  },
  {
   "cell_type": "code",
   "source": [
    "m_u_stat_h = {}\n",
    "\n",
    "lost = 0\n",
    "a = df['Away']==\"Manchester Utd\"\n",
    "for i in range (1993, 2023):\n",
    "  df_year = df[df['Season_End_Year']==i]\n",
    "  for j in df_year[a][\"FTR\"]:\n",
    "    if  j== 'H': \n",
    "      lost+=1\n",
    "  m_u_stat_a.update({i : lost})\n",
    "  lost = 0"
   ],
   "metadata": {
    "colab": {
     "base_uri": "https://localhost:8080/"
    },
    "id": "wmeN9zgZrHRc",
    "outputId": "55c787e8-5b28-4e19-82c3-052d6c9aa563"
   },
   "execution_count": null,
   "outputs": [
    {
     "output_type": "stream",
     "name": "stderr",
     "text": [
      "/usr/local/lib/python3.7/dist-packages/ipykernel_launcher.py:7: UserWarning: Boolean Series key will be reindexed to match DataFrame index.\n",
      "  import sys\n"
     ]
    }
   ]
  },
  {
   "cell_type": "code",
   "source": [
    "import collections\n",
    "\n",
    "my_dict = [m_u_stat_a, m_u_stat_h]\n",
    "\n",
    "counter = collections.Counter()\n",
    "for d in my_dict:\n",
    "    counter.update(d)\n",
    "\n",
    "res = dict(counter)\n",
    "\n",
    "man_unt_lost = pd.DataFrame(list(res.items()), \n",
    "                       columns = ['Year','Lost'])\n",
    "man_unt_lost.head()"
   ],
   "metadata": {
    "colab": {
     "base_uri": "https://localhost:8080/",
     "height": 206
    },
    "id": "rxGo3jXsrSKj",
    "outputId": "e98f33a9-cf18-4bc2-9269-22f708b04dd4"
   },
   "execution_count": null,
   "outputs": [
    {
     "output_type": "execute_result",
     "data": {
      "text/plain": [
       "   Year  Lost\n",
       "0  1993     4\n",
       "1  1994     3\n",
       "2  1995     5\n",
       "3  1996     6\n",
       "4  1997     3"
      ],
      "text/html": [
       "\n",
       "  <div id=\"df-edab12be-209a-4b4c-a48f-977d5efd4e20\">\n",
       "    <div class=\"colab-df-container\">\n",
       "      <div>\n",
       "<style scoped>\n",
       "    .dataframe tbody tr th:only-of-type {\n",
       "        vertical-align: middle;\n",
       "    }\n",
       "\n",
       "    .dataframe tbody tr th {\n",
       "        vertical-align: top;\n",
       "    }\n",
       "\n",
       "    .dataframe thead th {\n",
       "        text-align: right;\n",
       "    }\n",
       "</style>\n",
       "<table border=\"1\" class=\"dataframe\">\n",
       "  <thead>\n",
       "    <tr style=\"text-align: right;\">\n",
       "      <th></th>\n",
       "      <th>Year</th>\n",
       "      <th>Lost</th>\n",
       "    </tr>\n",
       "  </thead>\n",
       "  <tbody>\n",
       "    <tr>\n",
       "      <th>0</th>\n",
       "      <td>1993</td>\n",
       "      <td>4</td>\n",
       "    </tr>\n",
       "    <tr>\n",
       "      <th>1</th>\n",
       "      <td>1994</td>\n",
       "      <td>3</td>\n",
       "    </tr>\n",
       "    <tr>\n",
       "      <th>2</th>\n",
       "      <td>1995</td>\n",
       "      <td>5</td>\n",
       "    </tr>\n",
       "    <tr>\n",
       "      <th>3</th>\n",
       "      <td>1996</td>\n",
       "      <td>6</td>\n",
       "    </tr>\n",
       "    <tr>\n",
       "      <th>4</th>\n",
       "      <td>1997</td>\n",
       "      <td>3</td>\n",
       "    </tr>\n",
       "  </tbody>\n",
       "</table>\n",
       "</div>\n",
       "      <button class=\"colab-df-convert\" onclick=\"convertToInteractive('df-edab12be-209a-4b4c-a48f-977d5efd4e20')\"\n",
       "              title=\"Convert this dataframe to an interactive table.\"\n",
       "              style=\"display:none;\">\n",
       "        \n",
       "  <svg xmlns=\"http://www.w3.org/2000/svg\" height=\"24px\"viewBox=\"0 0 24 24\"\n",
       "       width=\"24px\">\n",
       "    <path d=\"M0 0h24v24H0V0z\" fill=\"none\"/>\n",
       "    <path d=\"M18.56 5.44l.94 2.06.94-2.06 2.06-.94-2.06-.94-.94-2.06-.94 2.06-2.06.94zm-11 1L8.5 8.5l.94-2.06 2.06-.94-2.06-.94L8.5 2.5l-.94 2.06-2.06.94zm10 10l.94 2.06.94-2.06 2.06-.94-2.06-.94-.94-2.06-.94 2.06-2.06.94z\"/><path d=\"M17.41 7.96l-1.37-1.37c-.4-.4-.92-.59-1.43-.59-.52 0-1.04.2-1.43.59L10.3 9.45l-7.72 7.72c-.78.78-.78 2.05 0 2.83L4 21.41c.39.39.9.59 1.41.59.51 0 1.02-.2 1.41-.59l7.78-7.78 2.81-2.81c.8-.78.8-2.07 0-2.86zM5.41 20L4 18.59l7.72-7.72 1.47 1.35L5.41 20z\"/>\n",
       "  </svg>\n",
       "      </button>\n",
       "      \n",
       "  <style>\n",
       "    .colab-df-container {\n",
       "      display:flex;\n",
       "      flex-wrap:wrap;\n",
       "      gap: 12px;\n",
       "    }\n",
       "\n",
       "    .colab-df-convert {\n",
       "      background-color: #E8F0FE;\n",
       "      border: none;\n",
       "      border-radius: 50%;\n",
       "      cursor: pointer;\n",
       "      display: none;\n",
       "      fill: #1967D2;\n",
       "      height: 32px;\n",
       "      padding: 0 0 0 0;\n",
       "      width: 32px;\n",
       "    }\n",
       "\n",
       "    .colab-df-convert:hover {\n",
       "      background-color: #E2EBFA;\n",
       "      box-shadow: 0px 1px 2px rgba(60, 64, 67, 0.3), 0px 1px 3px 1px rgba(60, 64, 67, 0.15);\n",
       "      fill: #174EA6;\n",
       "    }\n",
       "\n",
       "    [theme=dark] .colab-df-convert {\n",
       "      background-color: #3B4455;\n",
       "      fill: #D2E3FC;\n",
       "    }\n",
       "\n",
       "    [theme=dark] .colab-df-convert:hover {\n",
       "      background-color: #434B5C;\n",
       "      box-shadow: 0px 1px 3px 1px rgba(0, 0, 0, 0.15);\n",
       "      filter: drop-shadow(0px 1px 2px rgba(0, 0, 0, 0.3));\n",
       "      fill: #FFFFFF;\n",
       "    }\n",
       "  </style>\n",
       "\n",
       "      <script>\n",
       "        const buttonEl =\n",
       "          document.querySelector('#df-edab12be-209a-4b4c-a48f-977d5efd4e20 button.colab-df-convert');\n",
       "        buttonEl.style.display =\n",
       "          google.colab.kernel.accessAllowed ? 'block' : 'none';\n",
       "\n",
       "        async function convertToInteractive(key) {\n",
       "          const element = document.querySelector('#df-edab12be-209a-4b4c-a48f-977d5efd4e20');\n",
       "          const dataTable =\n",
       "            await google.colab.kernel.invokeFunction('convertToInteractive',\n",
       "                                                     [key], {});\n",
       "          if (!dataTable) return;\n",
       "\n",
       "          const docLinkHtml = 'Like what you see? Visit the ' +\n",
       "            '<a target=\"_blank\" href=https://colab.research.google.com/notebooks/data_table.ipynb>data table notebook</a>'\n",
       "            + ' to learn more about interactive tables.';\n",
       "          element.innerHTML = '';\n",
       "          dataTable['output_type'] = 'display_data';\n",
       "          await google.colab.output.renderOutput(dataTable, element);\n",
       "          const docLink = document.createElement('div');\n",
       "          docLink.innerHTML = docLinkHtml;\n",
       "          element.appendChild(docLink);\n",
       "        }\n",
       "      </script>\n",
       "    </div>\n",
       "  </div>\n",
       "  "
      ]
     },
     "metadata": {},
     "execution_count": 423
    }
   ]
  },
  {
   "cell_type": "code",
   "source": [
    "man_unt = man_unt_win.merge(man_unt_draw, how='outer')\n",
    "man_unt.head()"
   ],
   "metadata": {
    "colab": {
     "base_uri": "https://localhost:8080/",
     "height": 206
    },
    "id": "F4f4aJv3rWd_",
    "outputId": "d37d4b21-fbd1-4d41-e923-764b8a9f1edd"
   },
   "execution_count": null,
   "outputs": [
    {
     "output_type": "execute_result",
     "data": {
      "text/plain": [
       "   Year  Win  Draw\n",
       "0  1993   24     7\n",
       "1  1994   27     5\n",
       "2  1995   26     6\n",
       "3  1996   25     3\n",
       "4  1997   21     7"
      ],
      "text/html": [
       "\n",
       "  <div id=\"df-01d6b55a-27fa-4475-8dcd-592095109baa\">\n",
       "    <div class=\"colab-df-container\">\n",
       "      <div>\n",
       "<style scoped>\n",
       "    .dataframe tbody tr th:only-of-type {\n",
       "        vertical-align: middle;\n",
       "    }\n",
       "\n",
       "    .dataframe tbody tr th {\n",
       "        vertical-align: top;\n",
       "    }\n",
       "\n",
       "    .dataframe thead th {\n",
       "        text-align: right;\n",
       "    }\n",
       "</style>\n",
       "<table border=\"1\" class=\"dataframe\">\n",
       "  <thead>\n",
       "    <tr style=\"text-align: right;\">\n",
       "      <th></th>\n",
       "      <th>Year</th>\n",
       "      <th>Win</th>\n",
       "      <th>Draw</th>\n",
       "    </tr>\n",
       "  </thead>\n",
       "  <tbody>\n",
       "    <tr>\n",
       "      <th>0</th>\n",
       "      <td>1993</td>\n",
       "      <td>24</td>\n",
       "      <td>7</td>\n",
       "    </tr>\n",
       "    <tr>\n",
       "      <th>1</th>\n",
       "      <td>1994</td>\n",
       "      <td>27</td>\n",
       "      <td>5</td>\n",
       "    </tr>\n",
       "    <tr>\n",
       "      <th>2</th>\n",
       "      <td>1995</td>\n",
       "      <td>26</td>\n",
       "      <td>6</td>\n",
       "    </tr>\n",
       "    <tr>\n",
       "      <th>3</th>\n",
       "      <td>1996</td>\n",
       "      <td>25</td>\n",
       "      <td>3</td>\n",
       "    </tr>\n",
       "    <tr>\n",
       "      <th>4</th>\n",
       "      <td>1997</td>\n",
       "      <td>21</td>\n",
       "      <td>7</td>\n",
       "    </tr>\n",
       "  </tbody>\n",
       "</table>\n",
       "</div>\n",
       "      <button class=\"colab-df-convert\" onclick=\"convertToInteractive('df-01d6b55a-27fa-4475-8dcd-592095109baa')\"\n",
       "              title=\"Convert this dataframe to an interactive table.\"\n",
       "              style=\"display:none;\">\n",
       "        \n",
       "  <svg xmlns=\"http://www.w3.org/2000/svg\" height=\"24px\"viewBox=\"0 0 24 24\"\n",
       "       width=\"24px\">\n",
       "    <path d=\"M0 0h24v24H0V0z\" fill=\"none\"/>\n",
       "    <path d=\"M18.56 5.44l.94 2.06.94-2.06 2.06-.94-2.06-.94-.94-2.06-.94 2.06-2.06.94zm-11 1L8.5 8.5l.94-2.06 2.06-.94-2.06-.94L8.5 2.5l-.94 2.06-2.06.94zm10 10l.94 2.06.94-2.06 2.06-.94-2.06-.94-.94-2.06-.94 2.06-2.06.94z\"/><path d=\"M17.41 7.96l-1.37-1.37c-.4-.4-.92-.59-1.43-.59-.52 0-1.04.2-1.43.59L10.3 9.45l-7.72 7.72c-.78.78-.78 2.05 0 2.83L4 21.41c.39.39.9.59 1.41.59.51 0 1.02-.2 1.41-.59l7.78-7.78 2.81-2.81c.8-.78.8-2.07 0-2.86zM5.41 20L4 18.59l7.72-7.72 1.47 1.35L5.41 20z\"/>\n",
       "  </svg>\n",
       "      </button>\n",
       "      \n",
       "  <style>\n",
       "    .colab-df-container {\n",
       "      display:flex;\n",
       "      flex-wrap:wrap;\n",
       "      gap: 12px;\n",
       "    }\n",
       "\n",
       "    .colab-df-convert {\n",
       "      background-color: #E8F0FE;\n",
       "      border: none;\n",
       "      border-radius: 50%;\n",
       "      cursor: pointer;\n",
       "      display: none;\n",
       "      fill: #1967D2;\n",
       "      height: 32px;\n",
       "      padding: 0 0 0 0;\n",
       "      width: 32px;\n",
       "    }\n",
       "\n",
       "    .colab-df-convert:hover {\n",
       "      background-color: #E2EBFA;\n",
       "      box-shadow: 0px 1px 2px rgba(60, 64, 67, 0.3), 0px 1px 3px 1px rgba(60, 64, 67, 0.15);\n",
       "      fill: #174EA6;\n",
       "    }\n",
       "\n",
       "    [theme=dark] .colab-df-convert {\n",
       "      background-color: #3B4455;\n",
       "      fill: #D2E3FC;\n",
       "    }\n",
       "\n",
       "    [theme=dark] .colab-df-convert:hover {\n",
       "      background-color: #434B5C;\n",
       "      box-shadow: 0px 1px 3px 1px rgba(0, 0, 0, 0.15);\n",
       "      filter: drop-shadow(0px 1px 2px rgba(0, 0, 0, 0.3));\n",
       "      fill: #FFFFFF;\n",
       "    }\n",
       "  </style>\n",
       "\n",
       "      <script>\n",
       "        const buttonEl =\n",
       "          document.querySelector('#df-01d6b55a-27fa-4475-8dcd-592095109baa button.colab-df-convert');\n",
       "        buttonEl.style.display =\n",
       "          google.colab.kernel.accessAllowed ? 'block' : 'none';\n",
       "\n",
       "        async function convertToInteractive(key) {\n",
       "          const element = document.querySelector('#df-01d6b55a-27fa-4475-8dcd-592095109baa');\n",
       "          const dataTable =\n",
       "            await google.colab.kernel.invokeFunction('convertToInteractive',\n",
       "                                                     [key], {});\n",
       "          if (!dataTable) return;\n",
       "\n",
       "          const docLinkHtml = 'Like what you see? Visit the ' +\n",
       "            '<a target=\"_blank\" href=https://colab.research.google.com/notebooks/data_table.ipynb>data table notebook</a>'\n",
       "            + ' to learn more about interactive tables.';\n",
       "          element.innerHTML = '';\n",
       "          dataTable['output_type'] = 'display_data';\n",
       "          await google.colab.output.renderOutput(dataTable, element);\n",
       "          const docLink = document.createElement('div');\n",
       "          docLink.innerHTML = docLinkHtml;\n",
       "          element.appendChild(docLink);\n",
       "        }\n",
       "      </script>\n",
       "    </div>\n",
       "  </div>\n",
       "  "
      ]
     },
     "metadata": {},
     "execution_count": 427
    }
   ]
  },
  {
   "cell_type": "code",
   "source": [
    "man_unt = man_unt.merge(man_unt_lost, how='outer')\n",
    "man_unt.head()"
   ],
   "metadata": {
    "colab": {
     "base_uri": "https://localhost:8080/",
     "height": 206
    },
    "id": "tRIM8ihmuBnh",
    "outputId": "f8a733ae-57f6-4017-97f5-bfde12df2f87"
   },
   "execution_count": null,
   "outputs": [
    {
     "output_type": "execute_result",
     "data": {
      "text/plain": [
       "   Year  Win  Draw  Lost\n",
       "0  1993   24     7     4\n",
       "1  1994   27     5     3\n",
       "2  1995   26     6     5\n",
       "3  1996   25     3     6\n",
       "4  1997   21     7     3"
      ],
      "text/html": [
       "\n",
       "  <div id=\"df-1b2ed73f-7de0-43bc-8d5a-d97bbd92eca7\">\n",
       "    <div class=\"colab-df-container\">\n",
       "      <div>\n",
       "<style scoped>\n",
       "    .dataframe tbody tr th:only-of-type {\n",
       "        vertical-align: middle;\n",
       "    }\n",
       "\n",
       "    .dataframe tbody tr th {\n",
       "        vertical-align: top;\n",
       "    }\n",
       "\n",
       "    .dataframe thead th {\n",
       "        text-align: right;\n",
       "    }\n",
       "</style>\n",
       "<table border=\"1\" class=\"dataframe\">\n",
       "  <thead>\n",
       "    <tr style=\"text-align: right;\">\n",
       "      <th></th>\n",
       "      <th>Year</th>\n",
       "      <th>Win</th>\n",
       "      <th>Draw</th>\n",
       "      <th>Lost</th>\n",
       "    </tr>\n",
       "  </thead>\n",
       "  <tbody>\n",
       "    <tr>\n",
       "      <th>0</th>\n",
       "      <td>1993</td>\n",
       "      <td>24</td>\n",
       "      <td>7</td>\n",
       "      <td>4</td>\n",
       "    </tr>\n",
       "    <tr>\n",
       "      <th>1</th>\n",
       "      <td>1994</td>\n",
       "      <td>27</td>\n",
       "      <td>5</td>\n",
       "      <td>3</td>\n",
       "    </tr>\n",
       "    <tr>\n",
       "      <th>2</th>\n",
       "      <td>1995</td>\n",
       "      <td>26</td>\n",
       "      <td>6</td>\n",
       "      <td>5</td>\n",
       "    </tr>\n",
       "    <tr>\n",
       "      <th>3</th>\n",
       "      <td>1996</td>\n",
       "      <td>25</td>\n",
       "      <td>3</td>\n",
       "      <td>6</td>\n",
       "    </tr>\n",
       "    <tr>\n",
       "      <th>4</th>\n",
       "      <td>1997</td>\n",
       "      <td>21</td>\n",
       "      <td>7</td>\n",
       "      <td>3</td>\n",
       "    </tr>\n",
       "  </tbody>\n",
       "</table>\n",
       "</div>\n",
       "      <button class=\"colab-df-convert\" onclick=\"convertToInteractive('df-1b2ed73f-7de0-43bc-8d5a-d97bbd92eca7')\"\n",
       "              title=\"Convert this dataframe to an interactive table.\"\n",
       "              style=\"display:none;\">\n",
       "        \n",
       "  <svg xmlns=\"http://www.w3.org/2000/svg\" height=\"24px\"viewBox=\"0 0 24 24\"\n",
       "       width=\"24px\">\n",
       "    <path d=\"M0 0h24v24H0V0z\" fill=\"none\"/>\n",
       "    <path d=\"M18.56 5.44l.94 2.06.94-2.06 2.06-.94-2.06-.94-.94-2.06-.94 2.06-2.06.94zm-11 1L8.5 8.5l.94-2.06 2.06-.94-2.06-.94L8.5 2.5l-.94 2.06-2.06.94zm10 10l.94 2.06.94-2.06 2.06-.94-2.06-.94-.94-2.06-.94 2.06-2.06.94z\"/><path d=\"M17.41 7.96l-1.37-1.37c-.4-.4-.92-.59-1.43-.59-.52 0-1.04.2-1.43.59L10.3 9.45l-7.72 7.72c-.78.78-.78 2.05 0 2.83L4 21.41c.39.39.9.59 1.41.59.51 0 1.02-.2 1.41-.59l7.78-7.78 2.81-2.81c.8-.78.8-2.07 0-2.86zM5.41 20L4 18.59l7.72-7.72 1.47 1.35L5.41 20z\"/>\n",
       "  </svg>\n",
       "      </button>\n",
       "      \n",
       "  <style>\n",
       "    .colab-df-container {\n",
       "      display:flex;\n",
       "      flex-wrap:wrap;\n",
       "      gap: 12px;\n",
       "    }\n",
       "\n",
       "    .colab-df-convert {\n",
       "      background-color: #E8F0FE;\n",
       "      border: none;\n",
       "      border-radius: 50%;\n",
       "      cursor: pointer;\n",
       "      display: none;\n",
       "      fill: #1967D2;\n",
       "      height: 32px;\n",
       "      padding: 0 0 0 0;\n",
       "      width: 32px;\n",
       "    }\n",
       "\n",
       "    .colab-df-convert:hover {\n",
       "      background-color: #E2EBFA;\n",
       "      box-shadow: 0px 1px 2px rgba(60, 64, 67, 0.3), 0px 1px 3px 1px rgba(60, 64, 67, 0.15);\n",
       "      fill: #174EA6;\n",
       "    }\n",
       "\n",
       "    [theme=dark] .colab-df-convert {\n",
       "      background-color: #3B4455;\n",
       "      fill: #D2E3FC;\n",
       "    }\n",
       "\n",
       "    [theme=dark] .colab-df-convert:hover {\n",
       "      background-color: #434B5C;\n",
       "      box-shadow: 0px 1px 3px 1px rgba(0, 0, 0, 0.15);\n",
       "      filter: drop-shadow(0px 1px 2px rgba(0, 0, 0, 0.3));\n",
       "      fill: #FFFFFF;\n",
       "    }\n",
       "  </style>\n",
       "\n",
       "      <script>\n",
       "        const buttonEl =\n",
       "          document.querySelector('#df-1b2ed73f-7de0-43bc-8d5a-d97bbd92eca7 button.colab-df-convert');\n",
       "        buttonEl.style.display =\n",
       "          google.colab.kernel.accessAllowed ? 'block' : 'none';\n",
       "\n",
       "        async function convertToInteractive(key) {\n",
       "          const element = document.querySelector('#df-1b2ed73f-7de0-43bc-8d5a-d97bbd92eca7');\n",
       "          const dataTable =\n",
       "            await google.colab.kernel.invokeFunction('convertToInteractive',\n",
       "                                                     [key], {});\n",
       "          if (!dataTable) return;\n",
       "\n",
       "          const docLinkHtml = 'Like what you see? Visit the ' +\n",
       "            '<a target=\"_blank\" href=https://colab.research.google.com/notebooks/data_table.ipynb>data table notebook</a>'\n",
       "            + ' to learn more about interactive tables.';\n",
       "          element.innerHTML = '';\n",
       "          dataTable['output_type'] = 'display_data';\n",
       "          await google.colab.output.renderOutput(dataTable, element);\n",
       "          const docLink = document.createElement('div');\n",
       "          docLink.innerHTML = docLinkHtml;\n",
       "          element.appendChild(docLink);\n",
       "        }\n",
       "      </script>\n",
       "    </div>\n",
       "  </div>\n",
       "  "
      ]
     },
     "metadata": {},
     "execution_count": 428
    }
   ]
  },
  {
   "cell_type": "code",
   "source": [
    "man_unt.plot.bar(x=\"Year\", y = \"Win\")"
   ],
   "metadata": {
    "colab": {
     "base_uri": "https://localhost:8080/",
     "height": 312
    },
    "id": "ViXbCwe7uLJP",
    "outputId": "99ec8f42-0d41-48a2-d448-6ae55d2798a8"
   },
   "execution_count": null,
   "outputs": [
    {
     "output_type": "execute_result",
     "data": {
      "text/plain": [
       "<matplotlib.axes._subplots.AxesSubplot at 0x7fa150d12490>"
      ]
     },
     "metadata": {},
     "execution_count": 430
    },
    {
     "output_type": "display_data",
     "data": {
      "text/plain": [
       "<Figure size 432x288 with 1 Axes>"
      ],
      "image/png": "[encoded data removed]"
     },
     "metadata": {
      "needs_background": "light"
     }
    }
   ]
  },
  {
   "cell_type": "code",
   "source": [
    "man_unt.loc[man_unt['Win'].idxmax()]"
   ],
   "metadata": {
    "colab": {
     "base_uri": "https://localhost:8080/"
    },
    "id": "LmPty9v3ugiU",
    "outputId": "7e048c3f-8e30-4993-c88f-d1e30e8f0839"
   },
   "execution_count": null,
   "outputs": [
    {
     "output_type": "execute_result",
     "data": {
      "text/plain": [
       "Year    2000\n",
       "Win       28\n",
       "Draw       3\n",
       "Lost       3\n",
       "Name: 7, dtype: int64"
      ]
     },
     "metadata": {},
     "execution_count": 435
    }
   ]
  },
  {
   "cell_type": "code",
   "source": [
    "man_unt.plot.bar(x=\"Year\", y = \"Draw\")"
   ],
   "metadata": {
    "colab": {
     "base_uri": "https://localhost:8080/",
     "height": 312
    },
    "id": "b5TywVMJuVfZ",
    "outputId": "dd92efb3-fad2-4bcb-fff5-12b80470691b"
   },
   "execution_count": null,
   "outputs": [
    {
     "output_type": "execute_result",
     "data": {
      "text/plain": [
       "<matplotlib.axes._subplots.AxesSubplot at 0x7fa150bc3690>"
      ]
     },
     "metadata": {},
     "execution_count": 431
    },
    {
     "output_type": "display_data",
     "data": {
      "text/plain": [
       "<Figure size 432x288 with 1 Axes>"
      ],
      "image/png": "[encoded data removed]"
     },
     "metadata": {
      "needs_background": "light"
     }
    }
   ]
  },
  {
   "cell_type": "code",
   "source": [
    "man_unt.loc[man_unt['Draw'].idxmax()]"
   ],
   "metadata": {
    "colab": {
     "base_uri": "https://localhost:8080/"
    },
    "id": "5WgcZ0lNumS-",
    "outputId": "c9882713-781f-49fa-8bb1-f94d98b790a1"
   },
   "execution_count": null,
   "outputs": [
    {
     "output_type": "execute_result",
     "data": {
      "text/plain": [
       "Year    2011\n",
       "Win       23\n",
       "Draw      10\n",
       "Lost       4\n",
       "Name: 18, dtype: int64"
      ]
     },
     "metadata": {},
     "execution_count": 436
    }
   ]
  },
  {
   "cell_type": "code",
   "source": [
    "man_unt.plot.bar(x=\"Year\", y = \"Lost\")"
   ],
   "metadata": {
    "colab": {
     "base_uri": "https://localhost:8080/",
     "height": 312
    },
    "id": "45f5eEULuX52",
    "outputId": "64606f80-62bb-47c0-ffd8-44c21c98647f"
   },
   "execution_count": null,
   "outputs": [
    {
     "output_type": "execute_result",
     "data": {
      "text/plain": [
       "<matplotlib.axes._subplots.AxesSubplot at 0x7fa150ca46d0>"
      ]
     },
     "metadata": {},
     "execution_count": 432
    },
    {
     "output_type": "display_data",
     "data": {
      "text/plain": [
       "<Figure size 432x288 with 1 Axes>"
      ],
      "image/png": "[encoded data removed]"
     },
     "metadata": {
      "needs_background": "light"
     }
    }
   ]
  },
  {
   "cell_type": "code",
   "source": [
    "man_unt.loc[man_unt['Lost'].idxmax()]"
   ],
   "metadata": {
    "id": "zq7ur2wiupf1",
    "outputId": "09db0ef9-a744-469a-e110-0cc578c9cf50",
    "colab": {
     "base_uri": "https://localhost:8080/"
    }
   },
   "execution_count": null,
   "outputs": [
    {
     "output_type": "execute_result",
     "data": {
      "text/plain": [
       "Year    2016\n",
       "Win       19\n",
       "Draw       4\n",
       "Lost       8\n",
       "Name: 23, dtype: int64"
      ]
     },
     "metadata": {},
     "execution_count": 437
    }
   ]
  }
 ]
}
